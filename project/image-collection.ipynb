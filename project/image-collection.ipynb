{
 "cells": [
  {
   "cell_type": "markdown",
   "metadata": {},
   "source": [
    "# Define some URLS and execute some imports\n",
    "ImageNet has a small API for mapping \"WordNet IDs\" (wnid) to various data points. It *doesnt* however have a search functionality"
   ]
  },
  {
   "cell_type": "code",
   "execution_count": 40,
   "metadata": {
    "collapsed": true
   },
   "outputs": [],
   "source": [
    "import requests\n",
    "import random\n",
    "\n",
    "API = {\n",
    "    'allsynsets': \"http://image-net.org/api/text/imagenet.synset.obtain_synset_list\",\n",
    "    'wordsfor': \"http://image-net.org/api/text/wordnet.synset.getwords?wnid={}\",\n",
    "    'urlsfor': \"http://image-net.org/api/text/imagenet.synset.geturls?wnid={}\",\n",
    "    'hyponymfor': \"http://image-net.org/api/text/wordnet.structure.hyponym?wnid={}\",\n",
    "}"
   ]
  },
  {
   "cell_type": "markdown",
   "metadata": {},
   "source": [
    "## Get all tracked wnids\n",
    "Print one to confirm"
   ]
  },
  {
   "cell_type": "code",
   "execution_count": 41,
   "metadata": {
    "collapsed": false
   },
   "outputs": [
    {
     "data": {
      "text/plain": [
       "'n04019696'"
      ]
     },
     "execution_count": 41,
     "metadata": {},
     "output_type": "execute_result"
    }
   ],
   "source": [
    "# Fetch the list of synset IDs, content is a binary string - decode it before tokenizing on \\n\n",
    "synsets = requests.get(API['allsynsets']).content.decode().splitlines()\n",
    "\n",
    "# Print one\n",
    "random.choice(synsets)"
   ]
  },
  {
   "cell_type": "markdown",
   "metadata": {},
   "source": [
    "## Translate a wnid to its descriptors\n",
    "Print to confirm"
   ]
  },
  {
   "cell_type": "code",
   "execution_count": 42,
   "metadata": {
    "collapsed": false
   },
   "outputs": [
    {
     "data": {
      "text/plain": [
       "['spirillum', 'spirilla']"
      ]
     },
     "execution_count": 42,
     "metadata": {},
     "output_type": "execute_result"
    }
   ],
   "source": [
    "# Fetch the words for a given synset ID \n",
    "r = requests.get(API['wordsfor'].format(\n",
    "    random.choice(synsets))\n",
    ")\n",
    "\n",
    "# Decode and split the result\n",
    "words = r.content.decode().splitlines()\n",
    "del r\n",
    "words"
   ]
  },
  {
   "cell_type": "markdown",
   "metadata": {},
   "source": [
    "## Get the image urls for a synset\n",
    "Print the first few to confirm"
   ]
  },
  {
   "cell_type": "code",
   "execution_count": 43,
   "metadata": {
    "collapsed": false
   },
   "outputs": [
    {
     "data": {
      "text/plain": [
       "['http://lh3.ggpht.com/_4Lxfju0hJ5M/Rqwq6ugk_yI/AAAAAAAAAUk/3QQO6-ubr-8/DSC00426.JPG',\n",
       " 'http://farm3.static.flickr.com/2139/2093983257_33f42fb848.jpg%3Fv%3D0',\n",
       " 'http://calphotos.berkeley.edu/imgs/128x192/8266_3261/0475/0019.jpeg',\n",
       " 'http://pics.davesgarden.com/pics/kennedyh_1059347357_605_tn.jpg',\n",
       " 'http://i.pbase.com/t5/14/98514/4/67338663.dkQRtceJ.jpg',\n",
       " '...']"
      ]
     },
     "execution_count": 43,
     "metadata": {},
     "output_type": "execute_result"
    }
   ],
   "source": [
    "r = requests.get(API['urlsfor'].format(random.choice(synsets)))\n",
    "urls = r.content.decode().splitlines()\n",
    "del r\n",
    "urls[:5] + [\"...\"] # First 5 urls for "
   ]
  },
  {
   "cell_type": "markdown",
   "metadata": {},
   "source": [
    "## Get the children synsets for a particular parent\n",
    "We can get one or all levels of children by adding '&full=1'. The first entry of the result is the parent synset"
   ]
  },
  {
   "cell_type": "code",
   "execution_count": 44,
   "metadata": {
    "collapsed": false
   },
   "outputs": [
    {
     "name": "stdout",
     "output_type": "stream",
     "text": [
      "['n02807731']\n"
     ]
    },
    {
     "data": {
      "text/plain": [
       "['n02807731']"
      ]
     },
     "execution_count": 44,
     "metadata": {},
     "output_type": "execute_result"
    }
   ],
   "source": [
    "# Get the children one level deeper for a synset id\n",
    "synset = random.choice(synsets)\n",
    "\n",
    "# First entry is parent synset\n",
    "r = requests.get(API['hyponymfor'].format(synset))\n",
    "print(r.content.decode().splitlines())\n",
    "\n",
    "# Get all lower level children\n",
    "r = requests.get(API['hyponymfor'].format(synset) + \"&full=1\")\n",
    "del synset\n",
    "r.content.decode().splitlines()"
   ]
  },
  {
   "cell_type": "markdown",
   "metadata": {},
   "source": [
    "# Keyword searching: not part of the imagenet API\n",
    "* background: imagenet is based on nouns from wordnet\n",
    "* idea: Use **nltk**'s corpus library to perform searching\n",
    "* problem: Will have to filter to see if a noun from wordnet appears in imagenet\n",
    " * We can check if the offset is in the imagenet synset list"
   ]
  },
  {
   "cell_type": "code",
   "execution_count": 45,
   "metadata": {
    "collapsed": false
   },
   "outputs": [
    {
     "name": "stdout",
     "output_type": "stream",
     "text": [
      "[nltk_data] Downloading package wordnet to\n",
      "[nltk_data]     C:\\Users\\mattj\\AppData\\Roaming\\nltk_data...\n",
      "[nltk_data]   Package wordnet is already up-to-date!\n"
     ]
    },
    {
     "data": {
      "text/plain": [
       "True"
      ]
     },
     "execution_count": 45,
     "metadata": {},
     "output_type": "execute_result"
    }
   ],
   "source": [
    "# Download the wordnet corpus using nltk for the next step\n",
    "from nltk import download\n",
    "download(\"wordnet\")"
   ]
  },
  {
   "cell_type": "markdown",
   "metadata": {},
   "source": [
    "## Lookup a synset for a search term\n",
    "Restricted to nouns"
   ]
  },
  {
   "cell_type": "code",
   "execution_count": 46,
   "metadata": {
    "collapsed": false
   },
   "outputs": [
    {
     "name": "stdout",
     "output_type": "stream",
     "text": [
      "n1843383\n"
     ]
    }
   ],
   "source": [
    "# Look up a keyword using wordnet - conveniently available in nltk\n",
    "from nltk.corpus import wordnet as wn\n",
    "\n",
    "for synset in wn.synsets('toucan', pos=wn.NOUN):\n",
    "    print(\"n{}\".format(synset.offset()))"
   ]
  },
  {
   "cell_type": "markdown",
   "metadata": {},
   "source": [
    "## Confirm that imagenet has a synset for the wordnet synset\n",
    "Check if the wnid is in the synsets from earlier. *Note it must be padded to 8 digits*"
   ]
  },
  {
   "cell_type": "code",
   "execution_count": 47,
   "metadata": {
    "collapsed": false
   },
   "outputs": [
    {
     "data": {
      "text/plain": [
       "True"
      ]
     },
     "execution_count": 47,
     "metadata": {},
     "output_type": "execute_result"
    }
   ],
   "source": [
    "# Does imagenet have an entry for a toucan query?\n",
    "offset = wn.synset(\"toucan.n.01\").offset()\n",
    "\"n{}\".format(str(offset).zfill(8)) in synsets\n"
   ]
  },
  {
   "cell_type": "markdown",
   "metadata": {},
   "source": [
    "## Download an image\n",
    "More work needs to be done here, eg check the filetype from the url. it might be png?"
   ]
  },
  {
   "cell_type": "code",
   "execution_count": 48,
   "metadata": {
    "collapsed": false
   },
   "outputs": [
    {
     "data": {
      "image/jpeg": "[encoded data removed]",
      "text/plain": [
       "<IPython.core.display.Image object>"
      ]
     },
     "execution_count": 48,
     "metadata": {},
     "output_type": "execute_result"
    }
   ],
   "source": [
    "# Actually fetch an image\n",
    "import shutil\n",
    "from IPython.display import Image\n",
    "\n",
    "response = requests.get(urls[0], stream=True)\n",
    "with open('img.jpg', 'wb') as out_file:\n",
    "    shutil.copyfileobj(response.raw, out_file)\n",
    "del response\n",
    "\n",
    "Image(\"img.jpg\")"
   ]
  },
  {
   "cell_type": "markdown",
   "metadata": {
    "collapsed": true
   },
   "source": [
    "## Download Batch of Images\n",
    "Grab a batch of images matching the wordnet synset, store in images folder"
   ]
  },
  {
   "cell_type": "code",
   "execution_count": 81,
   "metadata": {
    "collapsed": false
   },
   "outputs": [
    {
     "name": "stdout",
     "output_type": "stream",
     "text": [
      "Image Count: 5\n"
     ]
    },
    {
     "data": {
      "image/jpeg": "[encoded data removed]",
      "text/plain": [
       "<IPython.core.display.Image object>"
      ]
     },
     "execution_count": 81,
     "metadata": {},
     "output_type": "execute_result"
    }
   ],
   "source": [
    "import os\n",
    "\n",
    "numImages = int(input(\"Image Count: \"))\n",
    "for i in range(numImages):\n",
    "    response = requests.get(urls[i], stream=True)\n",
    "    with open('img' + str(i) + '.jpg', 'wb') as out_file:\n",
    "        shutil.copyfileobj(response.raw, out_file)\n",
    "    del response\n",
    "\n",
    "# Need to move downloaded files to a folder\n",
    "# shutil.move doesn't seem to work in Jupyter  \n",
    "\n",
    "# Display a random image downloaded\n",
    "randomNum = random.randint(0, numImages)\n",
    "Image(\"img\" + str(randomNum) + \".jpg\")"
   ]
  },
  {
   "cell_type": "code",
   "execution_count": null,
   "metadata": {
    "collapsed": true
   },
   "outputs": [],
   "source": []
  }
 ],
 "metadata": {
  "kernelspec": {
   "display_name": "Python 3",
   "language": "python",
   "name": "python3"
  },
  "language_info": {
   "codemirror_mode": {
    "name": "ipython",
    "version": 3
   },
   "file_extension": ".py",
   "mimetype": "text/x-python",
   "name": "python",
   "nbconvert_exporter": "python",
   "pygments_lexer": "ipython3",
   "version": "3.6.0"
  }
 },
 "nbformat": 4,
 "nbformat_minor": 2
}
