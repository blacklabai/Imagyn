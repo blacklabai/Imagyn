{
 "cells": [
  {
   "cell_type": "markdown",
   "metadata": {},
   "source": [
    "# Image Synthesis Module\n",
    "\n",
    "Functions in this module provide a copy of a image that has been synthesized by one of these functions"
   ]
  },
  {
   "cell_type": "code",
   "execution_count": 77,
   "metadata": {
    "collapsed": true
   },
   "outputs": [],
   "source": [
    "# A set of functions that can apply different transformations on an existing image to synthesis a new image\n",
    "\n",
    "from PIL import Image, ImageEnhance, ImageFilter\n",
    "from skimage import io, data, transform, filters, color, util\n",
    "import colorsys\n",
    "import numpy\n",
    "import math\n",
    "import random\n",
    "\n",
    "# Sets plugin for skimage, using PIL to keep read in image formats the same for arrays\n",
    "io.use_plugin('pil')\n",
    "image_path = \"C:\\\\Users\\\\Graeme\\\\Desktop\\\\image5.jpg\""
   ]
  },
  {
   "cell_type": "markdown",
   "metadata": {},
   "source": [
    "## IO Helper Functions"
   ]
  },
  {
   "cell_type": "code",
   "execution_count": 78,
   "metadata": {
    "collapsed": true
   },
   "outputs": [],
   "source": [
    "# Convert Skimage image to a PIL image\n",
    "def skimage_to_pil(img):\n",
    "    io.imsave('cpy.jpg', img)\n",
    "    pil_img = Image.open('cpy.jpg')\n",
    "    return pil_img"
   ]
  },
  {
   "cell_type": "code",
   "execution_count": 79,
   "metadata": {
    "collapsed": true
   },
   "outputs": [],
   "source": [
    "# Convert PIL image to a Skimage image\n",
    "def pil_to_skimage(img):\n",
    "    img.save('cpy.jpg', \"JPEG\")\n",
    "    ski_img = io.imread('cpy.jpg', plugin='pil')\n",
    "    return ski_img"
   ]
  },
  {
   "cell_type": "markdown",
   "metadata": {},
   "source": [
    "## Image Synthesis Functions"
   ]
  },
  {
   "cell_type": "code",
   "execution_count": 22,
   "metadata": {
    "collapsed": true
   },
   "outputs": [],
   "source": [
    "# Change contrast, that eventually can return the negative at high enough values\n",
    "def change_contrast(img, level):\n",
    "    factor = (259 * (level + 255)) / (255 * (259 - level))\n",
    "    def contrast(c):\n",
    "        value = 128 + factor * (c - 128)\n",
    "        return max(0, min(255, value))\n",
    "    return img.point(contrast)"
   ]
  },
  {
   "cell_type": "code",
   "execution_count": 23,
   "metadata": {
    "collapsed": true
   },
   "outputs": [],
   "source": [
    "# Range is real numbers greater than 0 to infinity\n",
    "def change_brightness(img, level):\n",
    "    brightness = ImageEnhance.Brightness(img)\n",
    "    return brightness.enhance(level)"
   ]
  },
  {
   "cell_type": "code",
   "execution_count": 24,
   "metadata": {
    "collapsed": true
   },
   "outputs": [],
   "source": [
    "# Flip image over the vertical axis\n",
    "def flip_vertical(img):\n",
    "    return img.transpose(Image.FLIP_LEFT_RIGHT)"
   ]
  },
  {
   "cell_type": "code",
   "execution_count": 25,
   "metadata": {
    "collapsed": true
   },
   "outputs": [],
   "source": [
    "# Flip image over the horizontal axis\n",
    "def flip_horizontal(img):\n",
    "    return img.transpose(Image.FLIP_TOP_BOTTOM)"
   ]
  },
  {
   "cell_type": "code",
   "execution_count": 26,
   "metadata": {
    "collapsed": true
   },
   "outputs": [],
   "source": [
    "# Flip image over both axis\n",
    "def flip_diagonal(img):\n",
    "    imgcpy = img.transpose(Image.FLIP_TOP_BOTTOM)\n",
    "    return imgcpy.transpose(Image.FLIP_LEFT_RIGHT)"
   ]
  },
  {
   "cell_type": "code",
   "execution_count": 27,
   "metadata": {
    "collapsed": true
   },
   "outputs": [],
   "source": [
    "# By passing a new_size we have to consider that it may be under, which we technically don't want as we would just be\n",
    "# creating copies of the image based on the code below\n",
    "# Need to consider checking for size before this function if we choose to randomize the values, \n",
    "# or else we'll end up with alot of doubles\n",
    "def pad_image(img, new_size):\n",
    "    old_img = img\n",
    "    old_size = old_img.size\n",
    "    \n",
    "    # Check that all dimensions are greater or equal so it doesn't crop\n",
    "    if all(i >= j for i, j in zip(new_size, old_size)):\n",
    "        new_img = Image.new(\"RGB\", new_size)   ## luckily, this is already black!\n",
    "        new_img.paste(old_img, (int((new_size[0]-old_size[0])/2), int((new_size[1]-old_size[1])/2)))\n",
    "        return new_img\n",
    "    else:\n",
    "        return old_img"
   ]
  },
  {
   "cell_type": "code",
   "execution_count": 68,
   "metadata": {
    "collapsed": true
   },
   "outputs": [],
   "source": [
    "# Skew image using some math\n",
    "def skew_image(img, angle):\n",
    "\n",
    "    width, height = img.size\n",
    "    \n",
    "    # Get the width that is to be added to the image based on the angle of skew\n",
    "    xshift = math.tan(abs(angle)) * height\n",
    "    new_width = width + int((xshift))\n",
    "    \n",
    "    # Apply transform\n",
    "    img = img.transform((new_width, height), Image.AFFINE,\n",
    "            (1, angle, -xshift if angle > 0 else 0, 0, 1, 0), Image.BICUBIC)\n",
    "    \n",
    "    return img"
   ]
  },
  {
   "cell_type": "code",
   "execution_count": 30,
   "metadata": {},
   "outputs": [],
   "source": [
    "# Seam carve image\n",
    "def seam_carve_image(img):\n",
    "    \n",
    "    # Convert to skimage image\n",
    "    img = pil_to_skimage(img)\n",
    "    \n",
    "    # Energy Map, used to determine which pixels will be removed\n",
    "    eimg = filters.sobel(color.rgb2gray(img))\n",
    "    \n",
    "    # (Width, Height)\n",
    "    img_Dimensions = img.shape\n",
    "    \n",
    "    # Squish width if width >= height, squish height if height > width\n",
    "    if(img_Dimensions[0] >= img_Dimensions[1]):\n",
    "        mode = 'vertical'\n",
    "    else:\n",
    "        mode = 'horizontal'\n",
    "    \n",
    "    # Number of seams to be removed, need to determine best way to randomize\n",
    "    num_seams = 15\n",
    "    \n",
    "    # Number of pixels to keep along the outer edges\n",
    "    border = 5\n",
    "    \n",
    "    img = transform.seam_carve(img, eimg, mode, num_seams)\n",
    "    \n",
    "    # Convert back to PIL image\n",
    "    img = skimage_to_pil(img)\n",
    "    \n",
    "    return img"
   ]
  },
  {
   "cell_type": "code",
   "execution_count": 31,
   "metadata": {
    "collapsed": true
   },
   "outputs": [],
   "source": [
    "# Rotate image\n",
    "def rotate(img, rotation_angle):\n",
    "    try:\n",
    "        img_rotated = img.rotate(rotation_angle)\n",
    "        return img_rotated\n",
    "    except IOError as e:\n",
    "        print(e)"
   ]
  },
  {
   "cell_type": "code",
   "execution_count": 32,
   "metadata": {
    "collapsed": true
   },
   "outputs": [],
   "source": [
    "def scale(img, scaling_factor):\n",
    "    try:\n",
    "        original_width, original_height = img.size\n",
    "        img.thumbnail((original_height*scaling_factor, original_width*scaling_factor), Image.ANTIALIAS)\n",
    "        return img\n",
    "    except IOError as e:\n",
    "        print(e)"
   ]
  },
  {
   "cell_type": "code",
   "execution_count": 33,
   "metadata": {
    "collapsed": true
   },
   "outputs": [],
   "source": [
    "# Crop image\n",
    "# TODO: this method still needs to be tweaked so that we dont kill the image (main obj is still visible)\n",
    "def crop(img, scaling_factor_x, scaling_factor_y):\n",
    "    try:\n",
    "        original_width, original_height = img.size\n",
    "        img = img.crop((0, 0, int(original_width*scaling_factor_x), int(original_height*scaling_factor_y)))\n",
    "        return img\n",
    "    except Exception as e:\n",
    "        print(e)"
   ]
  },
  {
   "cell_type": "code",
   "execution_count": 62,
   "metadata": {
    "collapsed": true
   },
   "outputs": [],
   "source": [
    "# Apply white noise to image\n",
    "def white_noise(img):\n",
    "    # Convert to skimage image\n",
    "    img = pil_to_skimage(img)\n",
    "        \n",
    "    img = util.img_as_ubyte(util.random_noise(img, mode='s&p', seed=None, clip=True))\n",
    "    img = util.img_as_ubyte(util.random_noise(img, mode='gaussian', seed=None, clip=True))\n",
    "    img = util.img_as_ubyte(util.random_noise(img, mode='speckle', seed=None, clip=True))\n",
    "    \n",
    "    # Convert to PIL image\n",
    "    img = skimage_to_pil(img)\n",
    "    return img"
   ]
  },
  {
   "cell_type": "code",
   "execution_count": 35,
   "metadata": {
    "collapsed": true
   },
   "outputs": [],
   "source": [
    "def sharpen(img):\n",
    "    img = img.filter(ImageFilter.SHARPEN)\n",
    "    return img"
   ]
  },
  {
   "cell_type": "code",
   "execution_count": 36,
   "metadata": {
    "collapsed": true
   },
   "outputs": [],
   "source": [
    "# Apply a smooth filter to the image to smooth edges (blurs)\n",
    "def soften(img):\n",
    "    img = img.filter(ImageFilter.SMOOTH)\n",
    "    return img"
   ]
  },
  {
   "cell_type": "code",
   "execution_count": 37,
   "metadata": {
    "collapsed": true
   },
   "outputs": [],
   "source": [
    "def grayscale(img):\n",
    "    ''' grayscale\n",
    "    im = Image.open(image_path) # open colour image\n",
    "    im = im.convert('1') # convert image to black and white\n",
    "    im.save(output, \"JPEG\")\n",
    "    '''\n",
    "        \n",
    "    # black and white\n",
    "    gray = img.convert('L')\n",
    "    bw = gray.point(lambda x: 0 if x<128 else 255, '1')\n",
    "    return bw"
   ]
  },
  {
   "cell_type": "code",
   "execution_count": 85,
   "metadata": {
    "collapsed": true
   },
   "outputs": [],
   "source": [
    "def hue_change(img):\n",
    "    original_width, original_height = img.size\n",
    "    print(str(original_width))\n",
    "    print(str(original_height))\n",
    "    ld = img.load()\n",
    "    for y in range(original_height):\n",
    "        for x in range(original_width):\n",
    "            r,g,b = ld[x,y]\n",
    "            h,s,v = colorsys.rgb_to_hsv(r/255., g/255., b/255.)\n",
    "            h = (h + -90.0/360.0) % 1.0\n",
    "            s = s**0.65\n",
    "            r,g,b = colorsys.hsv_to_rgb(h, s, v)\n",
    "            ld[x,y] = (int(r * 255.9999), int(g * 255.9999), int(b * 255.9999))\n",
    "    return img"
   ]
  },
  {
   "cell_type": "markdown",
   "metadata": {},
   "source": [
    "## Randomization and Synthesis Functions"
   ]
  },
  {
   "cell_type": "code",
   "execution_count": 88,
   "metadata": {},
   "outputs": [],
   "source": [
    "def function_chooser(img, num):\n",
    "    \n",
    "    if num == 1:\n",
    "        level = random.randint(0, 500)\n",
    "        return change_contrast(img, level)\n",
    "            \n",
    "    elif num == 2: \n",
    "        level = random.randint(0, 500)\n",
    "        return change_brightness(img, level)\n",
    "            \n",
    "    elif num == 3:\n",
    "        return flip_vertical(img)\n",
    "        \n",
    "    elif num == 4:\n",
    "        return flip_horizontal(img)\n",
    "        \n",
    "    elif num == 5:  \n",
    "        return flip_diagonal(img)\n",
    "        \n",
    "    elif num == 6:\n",
    "        width = random.randint(100, 1000)\n",
    "        height = random.randint(100, 1000)\n",
    "        new_size = (width, height)\n",
    "        return pad_image(img, new_size)\n",
    "        \n",
    "    elif num == 7:\n",
    "        degree = random.randint(-360,360)\n",
    "        angle = math.radians(degree)\n",
    "        return skew_image(img, angle)\n",
    "            \n",
    "    elif num == 8:\n",
    "        return seam_carve_image(img)\n",
    "        \n",
    "    elif num == 9:\n",
    "        rotation_angle = random.randint(0, 360)\n",
    "        return rotate(img, rotation_angle)\n",
    "        \n",
    "    elif num == 10:\n",
    "        scaling_factor = random.uniform(1, 5)\n",
    "        return scale(img, scaling_factor)\n",
    "    \n",
    "    elif num == 11:\n",
    "        scaling_factor_x = random.uniform(1, 5)\n",
    "        scaling_factor_y = random.uniform(1, 5)\n",
    "        return crop(img, scaling_factor_x, scaling_factor_y)\n",
    "        \n",
    "    elif num == 12:\n",
    "        return white_noise(img)\n",
    "        \n",
    "    elif num == 13:\n",
    "        return sharpen(img)\n",
    "        \n",
    "    elif num == 14:\n",
    "        return soften(img)\n",
    "        \n",
    "    elif num == 15:\n",
    "        return grayscale(img)\n",
    "        \n",
    "    elif num == 16:\n",
    "        return hue_change(img)\n",
    "        \n",
    "    else:\n",
    "        print(\"Didn't find a function that relates to that num...\")\n",
    "        return img   "
   ]
  },
  {
   "cell_type": "code",
   "execution_count": 96,
   "metadata": {},
   "outputs": [
    {
     "name": "stdout",
     "output_type": "stream",
     "text": [
      "Number of images to synthesize: 8\n",
      "Image: 1\n",
      "Function applied: 5\n",
      "Function applied: 16\n",
      "153\n",
      "240\n",
      "Function applied: 2\n",
      "Function applied: 10\n",
      "Function applied: 1\n",
      "Image: 2\n",
      "Function applied: 7\n",
      "Image: 3\n",
      "Function applied: 8\n",
      "Function applied: 3\n",
      "Function applied: 16\n",
      "138\n",
      "240\n",
      "Image: 4\n",
      "Function applied: 2\n",
      "Function applied: 9\n",
      "Function applied: 1\n",
      "Function applied: 2\n",
      "Image: 5\n",
      "Function applied: 15\n",
      "Function applied: 8\n",
      "Function applied: 11\n",
      "Function applied: 9\n",
      "Function applied: 10\n",
      "Image: 6\n",
      "Function applied: 15\n",
      "Function applied: 11\n",
      "Function applied: 14\n"
     ]
    },
    {
     "name": "stderr",
     "output_type": "stream",
     "text": [
      "C:\\ProgramData\\Anaconda3\\lib\\site-packages\\skimage\\util\\dtype.py:122: UserWarning: Possible precision loss when converting from float64 to uint8\n",
      "  .format(dtypeobj_in, dtypeobj_out))\n"
     ]
    },
    {
     "ename": "ValueError",
     "evalue": "image has wrong mode",
     "output_type": "error",
     "traceback": [
      "\u001b[1;31m---------------------------------------------------------------------------\u001b[0m",
      "\u001b[1;31mValueError\u001b[0m                                Traceback (most recent call last)",
      "\u001b[1;32m<ipython-input-96-b40676ddb803>\u001b[0m in \u001b[0;36m<module>\u001b[1;34m()\u001b[0m\n\u001b[0;32m     22\u001b[0m         \u001b[0mimgcpy\u001b[0m\u001b[1;33m.\u001b[0m\u001b[0msave\u001b[0m\u001b[1;33m(\u001b[0m\u001b[0mfile_name\u001b[0m\u001b[1;33m,\u001b[0m \u001b[1;34m\"JPEG\"\u001b[0m\u001b[1;33m)\u001b[0m\u001b[1;33m\u001b[0m\u001b[0m\n\u001b[0;32m     23\u001b[0m \u001b[1;33m\u001b[0m\u001b[0m\n\u001b[1;32m---> 24\u001b[1;33m \u001b[0mrandomizor\u001b[0m\u001b[1;33m(\u001b[0m\u001b[0mimg\u001b[0m\u001b[1;33m)\u001b[0m\u001b[1;33m\u001b[0m\u001b[0m\n\u001b[0m",
      "\u001b[1;32m<ipython-input-96-b40676ddb803>\u001b[0m in \u001b[0;36mrandomizor\u001b[1;34m(img)\u001b[0m\n\u001b[0;32m     17\u001b[0m             \u001b[0mfunction_num\u001b[0m \u001b[1;33m=\u001b[0m \u001b[0mrandom\u001b[0m\u001b[1;33m.\u001b[0m\u001b[0mrandint\u001b[0m\u001b[1;33m(\u001b[0m\u001b[1;36m1\u001b[0m\u001b[1;33m,\u001b[0m\u001b[1;36m16\u001b[0m\u001b[1;33m)\u001b[0m\u001b[1;33m\u001b[0m\u001b[0m\n\u001b[0;32m     18\u001b[0m             \u001b[0mprint\u001b[0m\u001b[1;33m(\u001b[0m\u001b[1;34m\"Function applied: \"\u001b[0m \u001b[1;33m+\u001b[0m \u001b[0mstr\u001b[0m\u001b[1;33m(\u001b[0m\u001b[0mfunction_num\u001b[0m\u001b[1;33m)\u001b[0m\u001b[1;33m)\u001b[0m\u001b[1;33m\u001b[0m\u001b[0m\n\u001b[1;32m---> 19\u001b[1;33m             \u001b[0mimgcpy\u001b[0m \u001b[1;33m=\u001b[0m \u001b[0mfunction_chooser\u001b[0m\u001b[1;33m(\u001b[0m\u001b[0mimgcpy\u001b[0m\u001b[1;33m,\u001b[0m \u001b[0mfunction_num\u001b[0m\u001b[1;33m)\u001b[0m\u001b[1;33m\u001b[0m\u001b[0m\n\u001b[0m\u001b[0;32m     20\u001b[0m \u001b[1;33m\u001b[0m\u001b[0m\n\u001b[0;32m     21\u001b[0m         \u001b[0mfile_name\u001b[0m \u001b[1;33m=\u001b[0m \u001b[1;34m\".\\\\SynthesizedImages\\\\new_\"\u001b[0m \u001b[1;33m+\u001b[0m \u001b[0mstr\u001b[0m\u001b[1;33m(\u001b[0m\u001b[0mcount\u001b[0m\u001b[1;33m)\u001b[0m \u001b[1;33m+\u001b[0m \u001b[1;34m\".jpg\"\u001b[0m\u001b[1;33m\u001b[0m\u001b[0m\n",
      "\u001b[1;32m<ipython-input-88-c788f8e97b55>\u001b[0m in \u001b[0;36mfunction_chooser\u001b[1;34m(img, num)\u001b[0m\n\u001b[0;32m     52\u001b[0m \u001b[1;33m\u001b[0m\u001b[0m\n\u001b[0;32m     53\u001b[0m     \u001b[1;32melif\u001b[0m \u001b[0mnum\u001b[0m \u001b[1;33m==\u001b[0m \u001b[1;36m14\u001b[0m\u001b[1;33m:\u001b[0m\u001b[1;33m\u001b[0m\u001b[0m\n\u001b[1;32m---> 54\u001b[1;33m         \u001b[1;32mreturn\u001b[0m \u001b[0msoften\u001b[0m\u001b[1;33m(\u001b[0m\u001b[0mimg\u001b[0m\u001b[1;33m)\u001b[0m\u001b[1;33m\u001b[0m\u001b[0m\n\u001b[0m\u001b[0;32m     55\u001b[0m \u001b[1;33m\u001b[0m\u001b[0m\n\u001b[0;32m     56\u001b[0m     \u001b[1;32melif\u001b[0m \u001b[0mnum\u001b[0m \u001b[1;33m==\u001b[0m \u001b[1;36m15\u001b[0m\u001b[1;33m:\u001b[0m\u001b[1;33m\u001b[0m\u001b[0m\n",
      "\u001b[1;32m<ipython-input-36-ab96d358e9e1>\u001b[0m in \u001b[0;36msoften\u001b[1;34m(img)\u001b[0m\n\u001b[0;32m      1\u001b[0m \u001b[1;31m# Apply a smooth filter to the image to smooth edges (blurs)\u001b[0m\u001b[1;33m\u001b[0m\u001b[1;33m\u001b[0m\u001b[0m\n\u001b[0;32m      2\u001b[0m \u001b[1;32mdef\u001b[0m \u001b[0msoften\u001b[0m\u001b[1;33m(\u001b[0m\u001b[0mimg\u001b[0m\u001b[1;33m)\u001b[0m\u001b[1;33m:\u001b[0m\u001b[1;33m\u001b[0m\u001b[0m\n\u001b[1;32m----> 3\u001b[1;33m     \u001b[0mimg\u001b[0m \u001b[1;33m=\u001b[0m \u001b[0mimg\u001b[0m\u001b[1;33m.\u001b[0m\u001b[0mfilter\u001b[0m\u001b[1;33m(\u001b[0m\u001b[0mImageFilter\u001b[0m\u001b[1;33m.\u001b[0m\u001b[0mSMOOTH\u001b[0m\u001b[1;33m)\u001b[0m\u001b[1;33m\u001b[0m\u001b[0m\n\u001b[0m\u001b[0;32m      4\u001b[0m     \u001b[1;32mreturn\u001b[0m \u001b[0mimg\u001b[0m\u001b[1;33m\u001b[0m\u001b[0m\n",
      "\u001b[1;32mC:\\ProgramData\\Anaconda3\\lib\\site-packages\\PIL\\Image.py\u001b[0m in \u001b[0;36mfilter\u001b[1;34m(self, filter)\u001b[0m\n\u001b[0;32m   1092\u001b[0m \u001b[1;33m\u001b[0m\u001b[0m\n\u001b[0;32m   1093\u001b[0m         \u001b[1;32mif\u001b[0m \u001b[0mself\u001b[0m\u001b[1;33m.\u001b[0m\u001b[0mim\u001b[0m\u001b[1;33m.\u001b[0m\u001b[0mbands\u001b[0m \u001b[1;33m==\u001b[0m \u001b[1;36m1\u001b[0m\u001b[1;33m:\u001b[0m\u001b[1;33m\u001b[0m\u001b[0m\n\u001b[1;32m-> 1094\u001b[1;33m             \u001b[1;32mreturn\u001b[0m \u001b[0mself\u001b[0m\u001b[1;33m.\u001b[0m\u001b[0m_new\u001b[0m\u001b[1;33m(\u001b[0m\u001b[0mfilter\u001b[0m\u001b[1;33m.\u001b[0m\u001b[0mfilter\u001b[0m\u001b[1;33m(\u001b[0m\u001b[0mself\u001b[0m\u001b[1;33m.\u001b[0m\u001b[0mim\u001b[0m\u001b[1;33m)\u001b[0m\u001b[1;33m)\u001b[0m\u001b[1;33m\u001b[0m\u001b[0m\n\u001b[0m\u001b[0;32m   1095\u001b[0m         \u001b[1;31m# fix to handle multiband images since _imaging doesn't\u001b[0m\u001b[1;33m\u001b[0m\u001b[1;33m\u001b[0m\u001b[0m\n\u001b[0;32m   1096\u001b[0m         \u001b[0mims\u001b[0m \u001b[1;33m=\u001b[0m \u001b[1;33m[\u001b[0m\u001b[1;33m]\u001b[0m\u001b[1;33m\u001b[0m\u001b[0m\n",
      "\u001b[1;32mC:\\ProgramData\\Anaconda3\\lib\\site-packages\\PIL\\ImageFilter.py\u001b[0m in \u001b[0;36mfilter\u001b[1;34m(self, image)\u001b[0m\n\u001b[0;32m     52\u001b[0m         \u001b[1;32mif\u001b[0m \u001b[0mimage\u001b[0m\u001b[1;33m.\u001b[0m\u001b[0mmode\u001b[0m \u001b[1;33m==\u001b[0m \u001b[1;34m\"P\"\u001b[0m\u001b[1;33m:\u001b[0m\u001b[1;33m\u001b[0m\u001b[0m\n\u001b[0;32m     53\u001b[0m             \u001b[1;32mraise\u001b[0m \u001b[0mValueError\u001b[0m\u001b[1;33m(\u001b[0m\u001b[1;34m\"cannot filter palette images\"\u001b[0m\u001b[1;33m)\u001b[0m\u001b[1;33m\u001b[0m\u001b[0m\n\u001b[1;32m---> 54\u001b[1;33m         \u001b[1;32mreturn\u001b[0m \u001b[0mimage\u001b[0m\u001b[1;33m.\u001b[0m\u001b[0mfilter\u001b[0m\u001b[1;33m(\u001b[0m\u001b[1;33m*\u001b[0m\u001b[0mself\u001b[0m\u001b[1;33m.\u001b[0m\u001b[0mfilterargs\u001b[0m\u001b[1;33m)\u001b[0m\u001b[1;33m\u001b[0m\u001b[0m\n\u001b[0m\u001b[0;32m     55\u001b[0m \u001b[1;33m\u001b[0m\u001b[0m\n\u001b[0;32m     56\u001b[0m \u001b[1;33m\u001b[0m\u001b[0m\n",
      "\u001b[1;31mValueError\u001b[0m: image has wrong mode"
     ]
    }
   ],
   "source": [
    "img = Image.open(image_path)\n",
    "\n",
    "def randomizor(img):\n",
    "    \n",
    "    # Randomize the number of synthesized images\n",
    "    num_of_images = random.randint(1, 10)\n",
    "    print(\"Number of images to synthesize: \" + str(num_of_images))\n",
    "    for count, images in enumerate(range(num_of_images), 1):\n",
    "        \n",
    "        print(\"Image: \" + str(count))\n",
    "        imgcpy = img\n",
    "        # The number of transformations that will be applied\n",
    "        num_of_operations = random.randint(1,5)\n",
    "        for operations in range(0, num_of_operations):\n",
    "            \n",
    "            # The transformation function to be applied\n",
    "            function_num = random.randint(1,16)\n",
    "            print(\"Function applied: \" + str(function_num))\n",
    "            imgcpy = function_chooser(imgcpy, function_num)\n",
    "        \n",
    "        file_name = \".\\\\SynthesizedImages\\\\new_\" + str(count) + \".jpg\"\n",
    "        imgcpy.save(file_name, \"JPEG\")\n",
    "    \n",
    "randomizor(img)"
   ]
  },
  {
   "cell_type": "code",
   "execution_count": 97,
   "metadata": {},
   "outputs": [
    {
     "ename": "AttributeError",
     "evalue": "'str' object has no attribute 'point'",
     "output_type": "error",
     "traceback": [
      "\u001b[1;31m---------------------------------------------------------------------------\u001b[0m",
      "\u001b[1;31mAttributeError\u001b[0m                            Traceback (most recent call last)",
      "\u001b[1;32m<ipython-input-97-47884acc3e16>\u001b[0m in \u001b[0;36m<module>\u001b[1;34m()\u001b[0m\n\u001b[0;32m     20\u001b[0m \u001b[1;33m\u001b[0m\u001b[0m\n\u001b[0;32m     21\u001b[0m \u001b[1;32mif\u001b[0m \u001b[0m__name__\u001b[0m\u001b[1;33m==\u001b[0m \u001b[1;34m\"__main__\"\u001b[0m\u001b[1;33m:\u001b[0m\u001b[1;33m\u001b[0m\u001b[0m\n\u001b[1;32m---> 22\u001b[1;33m   \u001b[0mmain\u001b[0m\u001b[1;33m(\u001b[0m\u001b[1;33m)\u001b[0m\u001b[1;33m\u001b[0m\u001b[0m\n\u001b[0m",
      "\u001b[1;32m<ipython-input-97-47884acc3e16>\u001b[0m in \u001b[0;36mmain\u001b[1;34m()\u001b[0m\n\u001b[0;32m      2\u001b[0m \u001b[1;33m\u001b[0m\u001b[0m\n\u001b[0;32m      3\u001b[0m \u001b[1;32mdef\u001b[0m \u001b[0mmain\u001b[0m\u001b[1;33m(\u001b[0m\u001b[1;33m)\u001b[0m\u001b[1;33m:\u001b[0m\u001b[1;33m\u001b[0m\u001b[0m\n\u001b[1;32m----> 4\u001b[1;33m     \u001b[0mimg\u001b[0m \u001b[1;33m=\u001b[0m \u001b[0mchange_contrast\u001b[0m\u001b[1;33m(\u001b[0m\u001b[0mimage_path\u001b[0m\u001b[1;33m,\u001b[0m \u001b[1;36m60\u001b[0m\u001b[1;33m)\u001b[0m\u001b[1;33m\u001b[0m\u001b[0m\n\u001b[0m\u001b[0;32m      5\u001b[0m     \u001b[0mimg\u001b[0m \u001b[1;33m=\u001b[0m \u001b[0mchange_contrast_alt\u001b[0m\u001b[1;33m(\u001b[0m\u001b[0mimage_path\u001b[0m\u001b[1;33m,\u001b[0m \u001b[1;36m2\u001b[0m\u001b[1;33m)\u001b[0m\u001b[1;33m\u001b[0m\u001b[0m\n\u001b[0;32m      6\u001b[0m     \u001b[0mimg\u001b[0m \u001b[1;33m=\u001b[0m \u001b[0mchange_brightness\u001b[0m\u001b[1;33m(\u001b[0m\u001b[0mimage_path\u001b[0m\u001b[1;33m,\u001b[0m \u001b[1;36m2\u001b[0m\u001b[1;33m)\u001b[0m\u001b[1;33m\u001b[0m\u001b[0m\n",
      "\u001b[1;32m<ipython-input-22-bd790185fe75>\u001b[0m in \u001b[0;36mchange_contrast\u001b[1;34m(img, level)\u001b[0m\n\u001b[0;32m      5\u001b[0m         \u001b[0mvalue\u001b[0m \u001b[1;33m=\u001b[0m \u001b[1;36m128\u001b[0m \u001b[1;33m+\u001b[0m \u001b[0mfactor\u001b[0m \u001b[1;33m*\u001b[0m \u001b[1;33m(\u001b[0m\u001b[0mc\u001b[0m \u001b[1;33m-\u001b[0m \u001b[1;36m128\u001b[0m\u001b[1;33m)\u001b[0m\u001b[1;33m\u001b[0m\u001b[0m\n\u001b[0;32m      6\u001b[0m         \u001b[1;32mreturn\u001b[0m \u001b[0mmax\u001b[0m\u001b[1;33m(\u001b[0m\u001b[1;36m0\u001b[0m\u001b[1;33m,\u001b[0m \u001b[0mmin\u001b[0m\u001b[1;33m(\u001b[0m\u001b[1;36m255\u001b[0m\u001b[1;33m,\u001b[0m \u001b[0mvalue\u001b[0m\u001b[1;33m)\u001b[0m\u001b[1;33m)\u001b[0m\u001b[1;33m\u001b[0m\u001b[0m\n\u001b[1;32m----> 7\u001b[1;33m     \u001b[1;32mreturn\u001b[0m \u001b[0mimg\u001b[0m\u001b[1;33m.\u001b[0m\u001b[0mpoint\u001b[0m\u001b[1;33m(\u001b[0m\u001b[0mcontrast\u001b[0m\u001b[1;33m)\u001b[0m\u001b[1;33m\u001b[0m\u001b[0m\n\u001b[0m",
      "\u001b[1;31mAttributeError\u001b[0m: 'str' object has no attribute 'point'"
     ]
    }
   ],
   "source": [
    "### IGNORE FOR NOW\n",
    "\n",
    "def main():\n",
    "    img = change_contrast(image_path, 60)\n",
    "    img = change_contrast_alt(image_path, 2)\n",
    "    img = change_brightness(image_path, 2)\n",
    "    img = flip_vertical(image_path)\n",
    "    img = flip_horizontal(image_path)\n",
    "    img = flip_diagonal(image_path)\n",
    "    img = pad_image(image_path, (550, 600))\n",
    "    img = skew_image(image_path, 0.3)\n",
    "    \n",
    "    img = rotate(image_path,45)\n",
    "    img = scale(image_path, 0.1)\n",
    "    img = crop(image_path, 0.5, 0.5)\n",
    "    img = sharpen(image_path)\n",
    "    img = soften(image_path)\n",
    "    img = grayscale(image_path)\n",
    "    img = hue_change(image_path)\n",
    "  \n",
    "if __name__== \"__main__\":\n",
    "  main()"
   ]
  },
  {
   "cell_type": "code",
   "execution_count": null,
   "metadata": {
    "collapsed": true
   },
   "outputs": [],
   "source": []
  }
 ],
 "metadata": {
  "kernelspec": {
   "display_name": "Python 3",
   "language": "python",
   "name": "python3"
  },
  "language_info": {
   "codemirror_mode": {
    "name": "ipython",
    "version": 3
   },
   "file_extension": ".py",
   "mimetype": "text/x-python",
   "name": "python",
   "nbconvert_exporter": "python",
   "pygments_lexer": "ipython3",
   "version": "3.6.1"
  }
 },
 "nbformat": 4,
 "nbformat_minor": 2
}
