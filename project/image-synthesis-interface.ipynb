{
 "cells": [
  {
   "cell_type": "code",
   "execution_count": null,
   "metadata": {
    "collapsed": true
   },
   "outputs": [],
   "source": [
    "# A set of functions that can apply different transformations on an existing image to synthesis a new image\n",
    "\n",
    "from PIL import Image, ImageEnhance, ImageFilter\n",
    "from skimage import io, data, transform, filters, color, util\n",
    "import colorsys\n",
    "import numpy\n",
    "import math\n",
    "\n",
    "# Sets plugin for skimage, using PIL to keep read in image formats the same for arrays\n",
    "io.use_plugin('pil')"
   ]
  },
  {
   "cell_type": "code",
   "execution_count": null,
   "metadata": {
    "collapsed": true
   },
   "outputs": [],
   "source": [
    "# Change contrast, that eventually can return the negative at high enough values\n",
    "def change_contrast(img, level):\n",
    "    factor = (259 * (level + 255)) / (255 * (259 - level))\n",
    "    def contrast(c):\n",
    "        value = 128 + factor * (c - 128)\n",
    "        return max(0, min(255, value))\n",
    "    return img.point(contrast)"
   ]
  },
  {
   "cell_type": "code",
   "execution_count": null,
   "metadata": {
    "collapsed": true
   },
   "outputs": [],
   "source": [
    "# Range is real numbers greater than 0 to infinity\n",
    "def change_contrast_alt(img, level):\n",
    "    contrast = ImageEnhance.Contrast(img)\n",
    "    return contrast.enhance(level)"
   ]
  },
  {
   "cell_type": "code",
   "execution_count": null,
   "metadata": {
    "collapsed": true
   },
   "outputs": [],
   "source": [
    "# Range is real numbers greater than 0 to infinity\n",
    "def change_brightness(img, level):\n",
    "    brightness = ImageEnhance.Brightness(img)\n",
    "    return brightness.enhance(level)"
   ]
  },
  {
   "cell_type": "code",
   "execution_count": null,
   "metadata": {
    "collapsed": true
   },
   "outputs": [],
   "source": [
    "# Flip image over the vertical axis\n",
    "def flip_vertical(img):\n",
    "    return img.transpose(Image.FLIP_LEFT_RIGHT)"
   ]
  },
  {
   "cell_type": "code",
   "execution_count": null,
   "metadata": {
    "collapsed": true
   },
   "outputs": [],
   "source": [
    "# Flip image over the horizontal axis\n",
    "def flip_horizontal(img):\n",
    "    return img.transpose(Image.FLIP_TOP_BOTTOM)"
   ]
  },
  {
   "cell_type": "code",
   "execution_count": null,
   "metadata": {
    "collapsed": true
   },
   "outputs": [],
   "source": [
    "# Flip image over both axis\n",
    "def flip_diagonal(img):\n",
    "    imgcpy = img.transpose(Image.FLIP_TOP_BOTTOM)\n",
    "    return imgcpy.transpose(Image.FLIP_LEFT_RIGHT)"
   ]
  },
  {
   "cell_type": "code",
   "execution_count": null,
   "metadata": {
    "collapsed": true
   },
   "outputs": [],
   "source": [
    "# By passing a new_size we have to consider that it may be under, which we technically don't want as we would just be\n",
    "# creating copies of the image based on the code below\n",
    "# Need to consider checking for size before this function if we choose to randomize the values, \n",
    "# or else we'll end up with alot of doubles\n",
    "def pad_image(img, new_size):\n",
    "\n",
    "    old_img = img\n",
    "    old_size = old_img.size\n",
    "    \n",
    "    # Check that all dimensions are greater or equal so it doesn't crop\n",
    "    if all(i >= j for i, j in zip(new_size, old_size)):\n",
    "        new_img = Image.new(\"RGB\", new_size)   ## luckily, this is already black!\n",
    "        new_img.paste(old_img, (int((new_size[0]-old_size[0])/2), int((new_size[1]-old_size[1])/2)))\n",
    "        return new_img\n",
    "    else:\n",
    "        return old_img"
   ]
  },
  {
   "cell_type": "code",
   "execution_count": null,
   "metadata": {
    "collapsed": true
   },
   "outputs": [],
   "source": [
    "# Skew image using some math\n",
    "def skew_image(imagepath, angle):\n",
    "    img = Image.open(imagepath)\n",
    "    width, height = img.size\n",
    "    \n",
    "    # Get the width that is to be added to the image based on the angle of skew\n",
    "    xshift = math.tan(abs(angle)) * height\n",
    "    new_width = width + int((xshift))\n",
    "    \n",
    "    # Apply transform\n",
    "    img = img.transform((new_width, height), Image.AFFINE,\n",
    "            (1, angle, -xshift if angle > 0 else 0, 0, 1, 0), Image.BICUBIC)\n",
    "    return img"
   ]
  },
  {
   "cell_type": "code",
   "execution_count": null,
   "metadata": {
    "collapsed": true
   },
   "outputs": [],
   "source": [
    "# Seam carve image\n",
    "def seam_carve_image(imagepath):\n",
    "    # Load the image as a matrix\n",
    "    img = io.imread(imagepath, plugin='pil')\n",
    "    \n",
    "    # Energy Map, used to determine which pixels will be removed\n",
    "    eimg = filters.sobel(color.rgb2gray(img))\n",
    "    \n",
    "    # (Width, Height)\n",
    "    img_Dimensions = img.shape\n",
    "    \n",
    "    # Squish width if width >= height, squish height if height > width\n",
    "    if(img_Dimensions[0] >= img_Dimensions[1]):\n",
    "        mode = 'vertical'\n",
    "    else:\n",
    "        mode = 'horizontal'\n",
    "    \n",
    "    # Number of seams to be removed, need to determine best way to randomize\n",
    "    num_seams = 15\n",
    "    \n",
    "    # Number of pixels to keep along the outer edges\n",
    "    border = 5\n",
    "    \n",
    "    return transform.seam_carve(img, eimg, mode, num_seams)"
   ]
  },
  {
   "cell_type": "code",
   "execution_count": null,
   "metadata": {
    "collapsed": true
   },
   "outputs": [],
   "source": [
    "# Rotate image\n",
    "def rotate(image_path, output, rotation_angle):\n",
    "    try:\n",
    "        im = Image.open(image_path)\n",
    "        im_rotated = im.rotate(rotation_angle)\n",
    "        im_rotated.save(output, \"JPEG\")\n",
    "    except IOError as e:\n",
    "        print(e)"
   ]
  },
  {
   "cell_type": "code",
   "execution_count": null,
   "metadata": {
    "collapsed": true
   },
   "outputs": [],
   "source": [
    "def scale(image_path, output, scaling_factor):\n",
    "    try:\n",
    "        im = Image.open(image_path)\n",
    "        im.thumbnail((original_height*scaling_factor, original_width*scaling_factor), Image.ANTIALIAS)\n",
    "        im.save(output, \"JPEG\")\n",
    "    except IOError as e:\n",
    "        print(e)"
   ]
  },
  {
   "cell_type": "code",
   "execution_count": null,
   "metadata": {
    "collapsed": true
   },
   "outputs": [],
   "source": [
    "# Crop image\n",
    "# TODO: this method still needs to be tweaked so that we dont kill the image (main obj is still visible)\n",
    "def crop(image_path, output, scaling_factor_x, scaling_factor_y):\n",
    "    try:\n",
    "        im = Image.open(image_path)\n",
    "        im = im.crop((0, 0, int(original_width*scaling_factor_x), int(original_height*scaling_factor_y)))\n",
    "        im.save(output, \"JPEG\")\n",
    "    except Exception as e:\n",
    "        print(e)"
   ]
  },
  {
   "cell_type": "code",
   "execution_count": null,
   "metadata": {
    "collapsed": true
   },
   "outputs": [],
   "source": [
    "# Apply white noise to image\n",
    "def white_noise(image_path, output):\n",
    "    image = skimage.io.imread(image_path)\n",
    "    image = skimage.util.img_as_ubyte(util.random_noise(image, mode='s&p', seed=None, clip=True))\n",
    "    image = skimage.util.img_as_ubyte(util.random_noise(image, mode='gaussian', seed=None, clip=True))\n",
    "    image = skimage.util.img_as_ubyte(util.random_noise(image, mode='speckle', seed=None, clip=True))\n",
    "    skimage.io.imsave(output, image)"
   ]
  },
  {
   "cell_type": "code",
   "execution_count": null,
   "metadata": {
    "collapsed": true
   },
   "outputs": [],
   "source": [
    "def sharpen(image_path, output):\n",
    "    im = Image.open(image_path)\n",
    "    im = im.filter(ImageFilter.SHARPEN)\n",
    "    im.save(output, \"JPEG\")"
   ]
  },
  {
   "cell_type": "code",
   "execution_count": null,
   "metadata": {
    "collapsed": true
   },
   "outputs": [],
   "source": [
    "def soften(image_path, output):\n",
    "    im = Image.open(image_path)\n",
    "    im = im.filter(ImageFilter.SMOOTH)\n",
    "    im.save(output, \"JPEG\")"
   ]
  },
  {
   "cell_type": "code",
   "execution_count": null,
   "metadata": {
    "collapsed": true
   },
   "outputs": [],
   "source": [
    "def grayscale(image_path, output):\n",
    "    ''' grayscale\n",
    "    im = Image.open(image_path) # open colour image\n",
    "    im = im.convert('1') # convert image to black and white\n",
    "    im.save(output, \"JPEG\")\n",
    "    '''\n",
    "    \n",
    "    # black and white\n",
    "    col = Image.open(image_path)\n",
    "    gray = col.convert('L')\n",
    "    bw = gray.point(lambda x: 0 if x<128 else 255, '1')\n",
    "    bw.save(output)"
   ]
  },
  {
   "cell_type": "code",
   "execution_count": 1,
   "metadata": {
    "collapsed": true
   },
   "outputs": [],
   "source": [
    "def hue_change(image_path, output):\n",
    "    im = Image.open(image_path)\n",
    "    ld = im.load()\n",
    "    for y in range(original_height):\n",
    "        for x in range(original_width):\n",
    "            r,g,b = ld[x,y]\n",
    "            h,s,v = colorsys.rgb_to_hsv(r/255., g/255., b/255.)\n",
    "            h = (h + -90.0/360.0) % 1.0\n",
    "            s = s**0.65\n",
    "            r,g,b = colorsys.hsv_to_rgb(h, s, v)\n",
    "            ld[x,y] = (int(r * 255.9999), int(g * 255.9999), int(b * 255.9999))\n",
    "    im.save(output, \"JPEG\")"
   ]
  }
 ],
 "metadata": {
  "kernelspec": {
   "display_name": "Python 3",
   "language": "python",
   "name": "python3"
  },
  "language_info": {
   "codemirror_mode": {
    "name": "ipython",
    "version": 3
   },
   "file_extension": ".py",
   "mimetype": "text/x-python",
   "name": "python",
   "nbconvert_exporter": "python",
   "pygments_lexer": "ipython3",
   "version": "3.6.1"
  }
 },
 "nbformat": 4,
 "nbformat_minor": 2
}
