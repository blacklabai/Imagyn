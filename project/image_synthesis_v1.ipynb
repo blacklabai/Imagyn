{
 "cells": [
  {
   "cell_type": "code",
   "execution_count": 157,
   "metadata": {
    "collapsed": true
   },
   "outputs": [],
   "source": [
    "## JJ code\n",
    "\n",
    "import os, sys\n",
    "from PIL import Image\n",
    "from PIL import ImageFilter\n",
    "import skimage.io\n",
    "from skimage import util\n",
    "import colorsys\n",
    "\n",
    "image_path = \"/home/jose/Downloads/spider.jpg\"\n",
    "original_image = Image.open(image_path)\n",
    "original_width, original_height = original_image.size"
   ]
  },
  {
   "cell_type": "code",
   "execution_count": 158,
   "metadata": {
    "collapsed": true
   },
   "outputs": [],
   "source": [
    "def rotate(image_path, output, rotation_angle):\n",
    "    try:\n",
    "        im = Image.open(image_path)\n",
    "        im_rotated = im.rotate(rotation_angle)\n",
    "        im_rotated.save(output, \"JPEG\")\n",
    "    except IOError as e:\n",
    "        print(e)\n",
    "\n",
    "rotate(image_path, \"/home/jose/Downloads/spiderrotated.jpg\", 45)\n"
   ]
  },
  {
   "cell_type": "code",
   "execution_count": 159,
   "metadata": {
    "collapsed": true
   },
   "outputs": [],
   "source": [
    "def scale(image_path, output, scaling_factor):\n",
    "    try:\n",
    "        im = Image.open(image_path)\n",
    "        im.thumbnail((original_height*scaling_factor, original_width*scaling_factor), Image.ANTIALIAS)\n",
    "        im.save(output, \"JPEG\")\n",
    "    except IOError as e:\n",
    "        print(e)\n",
    "\n",
    "scale(image_path, \"/home/jose/Downloads/spiderscaled.jpg\", 0.1)"
   ]
  },
  {
   "cell_type": "code",
   "execution_count": 160,
   "metadata": {
    "collapsed": true
   },
   "outputs": [],
   "source": [
    "#TODO: this method still needs to be tweaked so that we dont kill the image (main obj is still visible)\n",
    "\n",
    "def crop(image_path, output, scaling_factor_x, scaling_factor_y):\n",
    "    try:\n",
    "        im = Image.open(image_path)\n",
    "        im = im.crop((0, 0, int(original_width*scaling_factor_x), int(original_height*scaling_factor_y)))\n",
    "        im.save(output, \"JPEG\")\n",
    "    except Exception as e:\n",
    "        print(e)\n",
    "        \n",
    "crop(image_path, \"/home/jose/Downloads/spidercropped.jpg\", 0.5, 0.5)"
   ]
  },
  {
   "cell_type": "code",
   "execution_count": 161,
   "metadata": {},
   "outputs": [
    {
     "name": "stderr",
     "output_type": "stream",
     "text": [
      "/home/jose/.local/lib/python3.5/site-packages/skimage/util/dtype.py:122: UserWarning: Possible precision loss when converting from float64 to uint8\n",
      "  .format(dtypeobj_in, dtypeobj_out))\n"
     ]
    }
   ],
   "source": [
    "def white_noise(image_path, output):\n",
    "    image = skimage.io.imread(image_path)\n",
    "    image = skimage.util.img_as_ubyte(util.random_noise(image, mode='s&p', seed=None, clip=True))\n",
    "    image = skimage.util.img_as_ubyte(util.random_noise(image, mode='gaussian', seed=None, clip=True))\n",
    "    image = skimage.util.img_as_ubyte(util.random_noise(image, mode='speckle', seed=None, clip=True))\n",
    "    skimage.io.imsave(output, image)\n",
    "white_noise(image_path, \"/home/jose/Downloads/spidergaussian.jpg\")"
   ]
  },
  {
   "cell_type": "code",
   "execution_count": 162,
   "metadata": {
    "collapsed": true
   },
   "outputs": [],
   "source": [
    "def sharpen(image_path, output):\n",
    "    im = Image.open(image_path)\n",
    "    im = im.filter(ImageFilter.SHARPEN)\n",
    "    im.save(output, \"JPEG\")\n",
    "    \n",
    "sharpen(image_path, \"/home/jose/Downloads/spidersharpen.jpg\")"
   ]
  },
  {
   "cell_type": "code",
   "execution_count": 163,
   "metadata": {
    "collapsed": true
   },
   "outputs": [],
   "source": [
    "def soften(image_path, output):\n",
    "    im = Image.open(image_path)\n",
    "    im = im.filter(ImageFilter.SMOOTH)\n",
    "    im.save(output, \"JPEG\")\n",
    "    \n",
    "soften(image_path, \"/home/jose/Downloads/spidersmooth.jpg\")"
   ]
  },
  {
   "cell_type": "code",
   "execution_count": 164,
   "metadata": {
    "collapsed": true
   },
   "outputs": [],
   "source": [
    "def grayscale(image_path, output):\n",
    "    ''' grayscale\n",
    "    im = Image.open(image_path) # open colour image\n",
    "    im = im.convert('1') # convert image to black and white\n",
    "    im.save(output, \"JPEG\")\n",
    "    '''\n",
    "    \n",
    "    # black and white\n",
    "    col = Image.open(image_path)\n",
    "    gray = col.convert('L')\n",
    "    bw = gray.point(lambda x: 0 if x<128 else 255, '1')\n",
    "    bw.save(output)\n",
    "    \n",
    "grayscale(image_path, \"/home/jose/Downloads/spiderblackandwhite.jpg\")"
   ]
  },
  {
   "cell_type": "code",
   "execution_count": 165,
   "metadata": {
    "collapsed": true
   },
   "outputs": [],
   "source": [
    "def hue_change(image_path, output):\n",
    "    im = Image.open(image_path)\n",
    "    ld = im.load()\n",
    "    for y in range(original_height):\n",
    "        for x in range(original_width):\n",
    "            r,g,b = ld[x,y]\n",
    "            h,s,v = colorsys.rgb_to_hsv(r/255., g/255., b/255.)\n",
    "            h = (h + -90.0/360.0) % 1.0\n",
    "            s = s**0.65\n",
    "            r,g,b = colorsys.hsv_to_rgb(h, s, v)\n",
    "            ld[x,y] = (int(r * 255.9999), int(g * 255.9999), int(b * 255.9999))\n",
    "    im.save(output, \"JPEG\")\n",
    "            \n",
    "hue_change(image_path, \"/home/jose/Downloads/spiderhue.jpg\")"
   ]
  },
  {
   "cell_type": "code",
   "execution_count": null,
   "metadata": {
    "collapsed": true
   },
   "outputs": [],
   "source": []
  }
 ],
 "metadata": {
  "kernelspec": {
   "display_name": "Python 3",
   "language": "python",
   "name": "python3"
  },
  "language_info": {
   "codemirror_mode": {
    "name": "ipython",
    "version": 3
   },
   "file_extension": ".py",
   "mimetype": "text/x-python",
   "name": "python",
   "nbconvert_exporter": "python",
   "pygments_lexer": "ipython3",
   "version": "3.6.1"
  }
 },
 "nbformat": 4,
 "nbformat_minor": 2
}
