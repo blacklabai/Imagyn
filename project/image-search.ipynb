{
 "cells": [
  {
   "cell_type": "markdown",
   "metadata": {},
   "source": [
    "# Image Searching\n",
    "This notebook handles searching imagenet for images based on a keyword.\n",
    "It performs this task by doing the following:\n",
    "\n",
    "    1. User inputs keyword and number of images to retrieve.\n",
    "    2. The keyword is sent to the wordnet API to obtain the synset id.\n",
    "    3. Get a grandparent from the synset for similar images.\n",
    "    4. Get up to 5 hyponyms of the hypernym (siblings to the synset).\n",
    "    5. Get a random synset that is completely unrelated to the synset.\n",
    "    6. Retrieve a set number of images from each synset:  \n",
    "        - About 30% of the images retrieved are exactly matching the keyword.  \n",
    "        - About 50% of the images retrieved are sibling synsets to the keyword. \n",
    "        - About 20% of the images are completely unrelated images from a random synset.  \n",
    "   \n",
    "The percentage of exact, related, and unrelated images is subject to change depending on what works best for the neural net."
   ]
  },
  {
   "cell_type": "markdown",
   "metadata": {},
   "source": [
    "## Imports and Initialization"
   ]
  },
  {
   "cell_type": "code",
   "execution_count": null,
   "metadata": {
    "collapsed": false
   },
   "outputs": [],
   "source": [
    "import requests\n",
    "import random\n",
    "import shutil\n",
    "from IPython.display import Image\n",
    "\n",
    "# Download wordnet corpus using nltk\n",
    "from nltk import download\n",
    "download(\"wordnet\")\n",
    "\n",
    "# Import the wordnet from nltk corpus\n",
    "from nltk.corpus import wordnet as wn\n",
    "\n",
    "API = {\n",
    "    'allsynsets': \"http://image-net.org/api/text/imagenet.synset.obtain_synset_list\",\n",
    "    'wordsfor': \"http://image-net.org/api/text/wordnet.synset.getwords?wnid={}\",\n",
    "    'urlsfor': \"http://image-net.org/api/text/imagenet.synset.geturls?wnid={}\",\n",
    "    'hyponymfor': \"http://image-net.org/api/text/wordnet.structure.hyponym?wnid={}\",\n",
    "}\n",
    "\n",
    "synsets = requests.get(API['allsynsets']).content.decode().splitlines()"
   ]
  },
  {
   "cell_type": "code",
   "execution_count": null,
   "metadata": {
    "collapsed": true
   },
   "outputs": [],
   "source": [
    "def getSynsetId(synset):\n",
    "    return \"n{}\".format(str(synset.offset()).zfill(8))"
   ]
  },
  {
   "cell_type": "markdown",
   "metadata": {},
   "source": [
    "## 1. User Prompt"
   ]
  },
  {
   "cell_type": "code",
   "execution_count": null,
   "metadata": {
    "collapsed": false
   },
   "outputs": [],
   "source": [
    "keyword = input(\"Keyword: \")\n",
    "imgCount = int(input(\"Image Count: \"))"
   ]
  },
  {
   "cell_type": "markdown",
   "metadata": {},
   "source": [
    "## 2. Obtain Synset ID\n",
    "Hyponym: A child of the synset  \n",
    "Hypernym: The parent of the synset"
   ]
  },
  {
   "cell_type": "code",
   "execution_count": null,
   "metadata": {
    "collapsed": false
   },
   "outputs": [],
   "source": [
    "offset = next(iter(wn.synsets(keyword, pos=wn.NOUN)), None).offset()\n",
    "synsetId = \"n{}\".format(str(offset).zfill(8))\n",
    "synset = wn.synset(\"{}.n.01\".format(keyword))\n",
    "print(\"{} : {} : {}\".format(keyword, synset, synsetId))\n",
    "\n",
    "synInImagenet = synsetId in synsets\n",
    "print(\"In imagenet? {}\".format(synInImagenet))"
   ]
  },
  {
   "cell_type": "markdown",
   "metadata": {},
   "source": [
    "## 3. Obtain Synset Parent"
   ]
  },
  {
   "cell_type": "code",
   "execution_count": null,
   "metadata": {
    "collapsed": false
   },
   "outputs": [],
   "source": [
    "parent = random.choice(synset.hypernyms())\n",
    "print(parent)"
   ]
  },
  {
   "cell_type": "markdown",
   "metadata": {},
   "source": [
    "## 4. Obtain Siblings of Synset"
   ]
  },
  {
   "cell_type": "code",
   "execution_count": 77,
   "metadata": {
    "collapsed": false
   },
   "outputs": [
    {
     "name": "stdout",
     "output_type": "stream",
     "text": [
      "Synset('big_cat.n.01')\n"
     ]
    }
   ],
   "source": [
    "siblings = []\n",
    "siblingCount = 0\n",
    "for sibling in parent.hyponyms():\n",
    "    if siblingCount == 5:\n",
    "        break\n",
    "    if sibling != synset:\n",
    "        siblings.insert(siblingCount, sibling)\n",
    "        siblingCount += 1\n",
    "\n",
    "for sibling in siblings:\n",
    "    print(sibling)"
   ]
  },
  {
   "cell_type": "markdown",
   "metadata": {},
   "source": [
    "## 5. Obtain Random Synset"
   ]
  },
  {
   "cell_type": "code",
   "execution_count": 112,
   "metadata": {
    "collapsed": false
   },
   "outputs": [
    {
     "name": "stdout",
     "output_type": "stream",
     "text": [
      "Synset('coat.n.01')\n"
     ]
    }
   ],
   "source": [
    "randomSynsetId = random.choice(synsets)\n",
    "randomSynsetName = random.choice(requests.get(API[\"wordsfor\"].format(randomSynsetId)).content.decode().splitlines())\n",
    "randomSynset = wn.synset(\"{}.n.01\".format(randomSynsetName))\n",
    "\n",
    "print(randomSynset)"
   ]
  },
  {
   "cell_type": "markdown",
   "metadata": {},
   "source": [
    "## 6. Display Obtained Synsets"
   ]
  },
  {
   "cell_type": "code",
   "execution_count": 113,
   "metadata": {
    "collapsed": false
   },
   "outputs": [
    {
     "name": "stdout",
     "output_type": "stream",
     "text": [
      "Synset:\n",
      "-------\n",
      "Synset('cat.n.01') Id('n02121620')\n",
      "\n",
      "Siblings:\n",
      "-------\n",
      "Synset('big_cat.n.01') Id('n02127808')\n",
      "\n",
      "Random:\n",
      "-------\n",
      "Synset('coat.n.01') Id('n03057021')\n",
      "\n"
     ]
    }
   ],
   "source": [
    "print(\"Synset:\")\n",
    "print(\"-------\")\n",
    "print(\"{} Id('{}')\\n\".format(synset, synsetId))\n",
    "\n",
    "print(\"Siblings:\")\n",
    "print(\"-------\")\n",
    "for sibling in siblings:\n",
    "    print(\"{} Id('{}')\\n\".format(sibling, getSynsetId(sibling)))\n",
    "\n",
    "print(\"Random:\")\n",
    "print(\"-------\")\n",
    "print(\"{} Id('{}')\\n\".format(randomSynset, randomSynsetId))"
   ]
  },
  {
   "cell_type": "code",
   "execution_count": null,
   "metadata": {
    "collapsed": true
   },
   "outputs": [],
   "source": []
  }
 ],
 "metadata": {
  "kernelspec": {
   "display_name": "Python 3",
   "language": "python",
   "name": "python3"
  },
  "language_info": {
   "codemirror_mode": {
    "name": "ipython",
    "version": 3
   },
   "file_extension": ".py",
   "mimetype": "text/x-python",
   "name": "python",
   "nbconvert_exporter": "python",
   "pygments_lexer": "ipython3",
   "version": "3.6.0"
  }
 },
 "nbformat": 4,
 "nbformat_minor": 2
}
