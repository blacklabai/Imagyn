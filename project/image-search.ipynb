{
 "cells": [
  {
   "cell_type": "markdown",
   "metadata": {},
   "source": [
    "# Image Searching\n",
    "This notebook handles searching imagenet for images based on a keyword.\n",
    "It performs this task by doing the following:\n",
    "\n",
    "    1. User inputs keyword and number of images to retrieve.\n",
    "    2. The keyword is sent to the wordnet API to obtain the synset id.\n",
    "    3. Get a grandparent from the synset for similar images.\n",
    "    4. Get up to 5 hyponyms of the hypernym (siblings to the synset).\n",
    "    5. Get a random synset that is completely unrelated to the synset.\n",
    "    6. Retrieve a set number of images from each synset:  \n",
    "        - About x% of the images retrieved are exactly matching the keyword.  \n",
    "        - About y% of the images retrieved are sibling synsets to the keyword. \n",
    "        - About z% of the images are completely unrelated images from a random synset.  \n",
    "   \n",
    "The percentage of exact, related, and unrelated images is subject to change depending on what works best for the neural net."
   ]
  },
  {
   "cell_type": "markdown",
   "metadata": {},
   "source": [
    "## Imports and Initialization"
   ]
  },
  {
   "cell_type": "code",
   "execution_count": 1,
   "metadata": {
    "collapsed": false
   },
   "outputs": [
    {
     "name": "stdout",
     "output_type": "stream",
     "text": [
      "[nltk_data] Downloading package wordnet to\n",
      "[nltk_data]     C:\\Users\\mattj\\AppData\\Roaming\\nltk_data...\n",
      "[nltk_data]   Package wordnet is already up-to-date!\n"
     ]
    }
   ],
   "source": [
    "import requests\n",
    "import random\n",
    "import urllib.request\n",
    "from socket import gaierror\n",
    "from IPython.display import Image\n",
    "\n",
    "# Download wordnet corpus using nltk\n",
    "from nltk import download\n",
    "download(\"wordnet\")\n",
    "\n",
    "# Import the wordnet from nltk corpus\n",
    "from nltk.corpus import wordnet as wn\n",
    "\n",
    "API = {\n",
    "    'allsynsets': \"http://image-net.org/api/text/imagenet.synset.obtain_synset_list\",\n",
    "    'wordsfor': \"http://image-net.org/api/text/wordnet.synset.getwords?wnid={}\",\n",
    "    'urlsfor': \"http://image-net.org/api/text/imagenet.synset.geturls?wnid={}\",\n",
    "    'hyponymfor': \"http://image-net.org/api/text/wordnet.structure.hyponym?wnid={}\",\n",
    "}\n",
    "\n",
    "synsets = requests.get(API['allsynsets']).content.decode().splitlines()"
   ]
  },
  {
   "cell_type": "code",
   "execution_count": 2,
   "metadata": {
    "collapsed": true
   },
   "outputs": [],
   "source": [
    "def getSynsetId(synset):\n",
    "    return \"n{}\".format(str(synset.offset()).zfill(8))\n",
    "\n",
    "def getUrls(sysnetId):\n",
    "    request = requests.get(API['urlsfor'].format(sysnetId))\n",
    "    urls = request.content.decode().splitlines()\n",
    "    del request\n",
    "    return urls\n",
    "\n",
    "def validSynset(synset):\n",
    "    synId = getSynsetId(synset)\n",
    "    return synId in synsets"
   ]
  },
  {
   "cell_type": "markdown",
   "metadata": {},
   "source": [
    "## 1. User Prompt"
   ]
  },
  {
   "cell_type": "code",
   "execution_count": 3,
   "metadata": {
    "collapsed": false
   },
   "outputs": [
    {
     "name": "stdout",
     "output_type": "stream",
     "text": [
      "Keyword: dingo\n",
      "Image Count: 25\n",
      "% Exact Matches: 10\n",
      "% Similar Matches: 20\n",
      "% Unrelated Matches: 20\n",
      "Must add up to less than or equal to 100%\n",
      "% Unrelated Matches: 70\n"
     ]
    }
   ],
   "source": [
    "keyword = input(\"Keyword: \")\n",
    "imgCount = int(input(\"Image Count: \"))\n",
    "\n",
    "e = int(input(\"% Exact Matches: \"))\n",
    "while (e > 100):\n",
    "    print(\"Must add up to less than or equal to 100%\")\n",
    "    e = int(input(\"% Exact Matches: \"))\n",
    "    \n",
    "s = int(input(\"% Similar Matches: \"))\n",
    "while (s + e > 100):\n",
    "    print(\"Must add up to less than or equal to 100%\")\n",
    "    s = int(input(\"% Similar Matches: \"))\n",
    "\n",
    "\n",
    "u = int(input(\"% Unrelated Matches: \"))\n",
    "while (u + s + e != 100):\n",
    "    print(\"Must add up to less than or equal to 100%\")\n",
    "    u = int(input(\"% Unrelated Matches: \"))\n"
   ]
  },
  {
   "cell_type": "markdown",
   "metadata": {},
   "source": [
    "## 2. Obtain Synset ID\n",
    "Hyponym: A child of the synset  \n",
    "Hypernym: The parent of the synset"
   ]
  },
  {
   "cell_type": "code",
   "execution_count": 4,
   "metadata": {
    "collapsed": false
   },
   "outputs": [
    {
     "name": "stdout",
     "output_type": "stream",
     "text": [
      "dingo : Synset('dingo.n.01') : n02115641\n",
      "In imagenet? True\n"
     ]
    }
   ],
   "source": [
    "offset = next(iter(wn.synsets(keyword, pos=wn.NOUN)), None).offset()\n",
    "synsetId = \"n{}\".format(str(offset).zfill(8))\n",
    "synset = wn.synset(\"{}.n.01\".format(keyword))\n",
    "print(\"{} : {} : {}\".format(keyword, synset, synsetId))\n",
    "\n",
    "synInImagenet = synsetId in synsets\n",
    "print(\"In imagenet? {}\".format(synInImagenet))"
   ]
  },
  {
   "cell_type": "markdown",
   "metadata": {},
   "source": [
    "## 3. Obtain Synset Parent"
   ]
  },
  {
   "cell_type": "code",
   "execution_count": 5,
   "metadata": {
    "collapsed": false
   },
   "outputs": [
    {
     "name": "stdout",
     "output_type": "stream",
     "text": [
      "Synset('wild_dog.n.01')\n"
     ]
    }
   ],
   "source": [
    "parent = random.choice(synset.hypernyms())\n",
    "print(parent)"
   ]
  },
  {
   "cell_type": "markdown",
   "metadata": {},
   "source": [
    "## 4. Obtain Siblings of Synset"
   ]
  },
  {
   "cell_type": "code",
   "execution_count": 6,
   "metadata": {
    "collapsed": false
   },
   "outputs": [
    {
     "name": "stdout",
     "output_type": "stream",
     "text": [
      "Synset('african_hunting_dog.n.01')\n",
      "Synset('crab-eating_dog.n.01')\n",
      "Synset('dhole.n.01')\n",
      "Synset('raccoon_dog.n.01')\n"
     ]
    }
   ],
   "source": [
    "siblings = []\n",
    "siblingCount = 0\n",
    "for sibling in parent.hyponyms():\n",
    "    if siblingCount == 5:\n",
    "        break\n",
    "    if sibling != synset and validSynset(sibling):\n",
    "        siblings.insert(siblingCount, sibling)\n",
    "        siblingCount += 1\n",
    "\n",
    "for sibling in siblings:\n",
    "    print(sibling)"
   ]
  },
  {
   "cell_type": "markdown",
   "metadata": {},
   "source": [
    "## 5. Obtain Random Synset"
   ]
  },
  {
   "cell_type": "code",
   "execution_count": 7,
   "metadata": {
    "collapsed": false
   },
   "outputs": [
    {
     "name": "stdout",
     "output_type": "stream",
     "text": [
      "hip pocket is not a noun, try again.\n",
      "egg-laying mammal is not a noun, try again.\n",
      "marshmallow fluff is not a noun, try again.\n",
      "Callirhoe triangulata is not a noun, try again.\n",
      "gorgonian coral is not a noun, try again.\n",
      "Synset('acquirer.n.01')\n",
      "Synset('sphacelotheca.n.01')\n",
      "Synset('conveyance.n.03')\n",
      "Synset('raceme.n.01')\n",
      "Synset('vegetable.n.01')\n"
     ]
    }
   ],
   "source": [
    "def getGrandparents(syn):\n",
    "    grandparents = []\n",
    "    for parent in syn.hypernyms():\n",
    "        grandparents.extend(parent.hypernyms())\n",
    "    return grandparents\n",
    "\n",
    "# Get the matching grandparents in\n",
    "# order to ensure unrelated synsets\n",
    "matchGrandparents = getGrandparents(synset)\n",
    "\n",
    "randoms = []\n",
    "randomCount = 0\n",
    "while (randomCount < 5):\n",
    "    while True:\n",
    "        try:\n",
    "            randomSynsetId = random.choice(synsets)\n",
    "            randomSynsetName = random.choice(requests.get(API[\"wordsfor\"].format(randomSynsetId)).content.decode().splitlines())\n",
    "            randomSynset = wn.synset(\"{}.n.01\".format(randomSynsetName))\n",
    "            \n",
    "            # Get grandparents of random synset\n",
    "            randomGrandparents = getGrandparents(randomSynset)\n",
    "                \n",
    "            # Ensure valid synset and that it is truely unrelated\n",
    "            if (validSynset(randomSynset) and not bool(set(matchGrandparents) & set(randomGrandparents))):\n",
    "                randoms.insert(randomCount, randomSynset)\n",
    "                randomCount += 1\n",
    "                break\n",
    "        except:\n",
    "            print (\"{} is not a noun, try again.\".format(randomSynsetName))\n",
    "            \n",
    "for rand in randoms:  \n",
    "    print(rand)"
   ]
  },
  {
   "cell_type": "markdown",
   "metadata": {},
   "source": [
    "## 6. Display Obtained Synsets"
   ]
  },
  {
   "cell_type": "code",
   "execution_count": 8,
   "metadata": {
    "collapsed": false
   },
   "outputs": [
    {
     "name": "stdout",
     "output_type": "stream",
     "text": [
      "Synset:\n",
      "-------\n",
      "Synset('dingo.n.01') Id('n02115641')\n",
      "\n",
      "Siblings:\n",
      "-------\n",
      "Synset('african_hunting_dog.n.01') Id('n02116738')\n",
      "\n",
      "Synset('crab-eating_dog.n.01') Id('n02116185')\n",
      "\n",
      "Synset('dhole.n.01') Id('n02115913')\n",
      "\n",
      "Synset('raccoon_dog.n.01') Id('n02116450')\n",
      "\n",
      "Random:\n",
      "-------\n",
      "Synset('acquirer.n.01') Id('n09764201')\n",
      "\n",
      "Synset('sphacelotheca.n.01') Id('n13067532')\n",
      "\n",
      "Synset('conveyance.n.03') Id('n03100490')\n",
      "\n",
      "Synset('raceme.n.01') Id('n13132486')\n",
      "\n",
      "Synset('vegetable.n.01') Id('n07707451')\n",
      "\n"
     ]
    }
   ],
   "source": [
    "print(\"Synset:\")\n",
    "print(\"-------\")\n",
    "print(\"{} Id('{}')\\n\".format(synset, synsetId))\n",
    "\n",
    "print(\"Siblings:\")\n",
    "print(\"-------\")\n",
    "for sibling in siblings:\n",
    "    print(\"{} Id('{}')\\n\".format(sibling, getSynsetId(sibling)))\n",
    "\n",
    "print(\"Random:\")\n",
    "print(\"-------\")\n",
    "for rand in randoms:\n",
    "    print(\"{} Id('{}')\\n\".format(rand, getSynsetId(rand)))"
   ]
  },
  {
   "cell_type": "markdown",
   "metadata": {
    "collapsed": true
   },
   "source": [
    "## 7. Retrieve Percentage of Images"
   ]
  },
  {
   "cell_type": "code",
   "execution_count": 9,
   "metadata": {
    "collapsed": false
   },
   "outputs": [
    {
     "name": "stdout",
     "output_type": "stream",
     "text": [
      "count:2 imageType:Exact passedSynset:n02115641\n",
      ".\\CollectedImages\\Exact\\img0.jpg\n",
      ".\\CollectedImages\\Exact\\img1.jpg\n",
      "count:1 imageType:Similar passedSynset:n02116738\n",
      ".\\CollectedImages\\Similar\\img0.jpg\n",
      "count:1 imageType:Similar passedSynset:n02116185\n",
      ".\\CollectedImages\\Similar\\img1.jpg\n",
      "count:1 imageType:Similar passedSynset:n02115913\n",
      ".\\CollectedImages\\Similar\\img2.jpg\n",
      "count:1 imageType:Similar passedSynset:n02116450\n",
      ".\\CollectedImages\\Similar\\img3.jpg\n",
      "count:3 imageType:Unrelated passedSynset:n09764201\n",
      ".\\CollectedImages\\Unrelated\\img0.jpg\n",
      ".\\CollectedImages\\Unrelated\\img1.jpg\n",
      ".\\CollectedImages\\Unrelated\\img2.jpg\n",
      "count:3 imageType:Unrelated passedSynset:n13067532\n",
      ".\\CollectedImages\\Unrelated\\img3.jpg\n",
      ".\\CollectedImages\\Unrelated\\img4.jpg\n",
      ".\\CollectedImages\\Unrelated\\img5.jpg\n",
      "count:3 imageType:Unrelated passedSynset:n03100490\n",
      ".\\CollectedImages\\Unrelated\\img6.jpg\n",
      ".\\CollectedImages\\Unrelated\\img7.jpg\n",
      ".\\CollectedImages\\Unrelated\\img8.jpg\n",
      "count:3 imageType:Unrelated passedSynset:n13132486\n",
      ".\\CollectedImages\\Unrelated\\img9.jpg\n",
      ".\\CollectedImages\\Unrelated\\img10.jpg\n",
      ".\\CollectedImages\\Unrelated\\img11.jpg\n",
      "count:3 imageType:Unrelated passedSynset:n07707451\n",
      ".\\CollectedImages\\Unrelated\\img12.jpg\n",
      ".\\CollectedImages\\Unrelated\\img13.jpg\n",
      ".\\CollectedImages\\Unrelated\\img14.jpg\n"
     ]
    }
   ],
   "source": [
    "exact = (int)(imgCount * (e / 100))\n",
    "similar = (int)(imgCount * (s / 100))\n",
    "unrelated = (int)(imgCount * (u / 100))\n",
    "\n",
    "def getImages(count, imageType, passedSynset, retrieved=0):\n",
    "    print(\"count:{} imageType:{} passedSynset:{}\".format(count, imageType, passedSynset))\n",
    "    \n",
    "    urls = getUrls(passedSynset)\n",
    "\n",
    "    errorOffset = 0\n",
    "    localRetrieved = 0\n",
    "    while (localRetrieved < count):\n",
    "        while True:\n",
    "            try: \n",
    "                file = \".\\\\CollectedImages\\\\{}\\\\img{}.jpg\".format(imageType, localRetrieved + retrieved)\n",
    "                urllib.request.urlretrieve(urls[localRetrieved + errorOffset], file)\n",
    "                print(file)\n",
    "                localRetrieved += 1\n",
    "                break\n",
    "            except IndexError:\n",
    "                break\n",
    "            except (urllib.error.HTTPError, urllib.error.URLError):\n",
    "                errorOffset += 1\n",
    "    return\n",
    "\n",
    "def getImagesMultipleSynsets(count, imageType, passedSynsets):\n",
    "    imagesRetrieved = 0\n",
    "\n",
    "    # If less than 0 then just use first synset\n",
    "    calculatedCount = (int)(count / len(passedSynsets))\n",
    "    if (calculatedCount == 0):\n",
    "        getImages(count, imageType, getSynsetId(passedSynsets[0]), imagesRetrieved)\n",
    "    else:\n",
    "        for syn in passedSynsets:\n",
    "            getImages(calculatedCount, imageType, getSynsetId(syn), imagesRetrieved)\n",
    "            imagesRetrieved += calculatedCount\n",
    "    return\n",
    "\n",
    "# Get exact images\n",
    "getImages(exact, \"Exact\", synsetId)\n",
    "\n",
    "# Get similar images\n",
    "getImagesMultipleSynsets(similar, \"Similar\", siblings)\n",
    "\n",
    "# Get unrelated images\n",
    "getImagesMultipleSynsets(unrelated, \"Unrelated\", randoms)"
   ]
  },
  {
   "cell_type": "code",
   "execution_count": null,
   "metadata": {
    "collapsed": true
   },
   "outputs": [],
   "source": []
  }
 ],
 "metadata": {
  "kernelspec": {
   "display_name": "Python 3",
   "language": "python",
   "name": "python3"
  },
  "language_info": {
   "codemirror_mode": {
    "name": "ipython",
    "version": 3
   },
   "file_extension": ".py",
   "mimetype": "text/x-python",
   "name": "python",
   "nbconvert_exporter": "python",
   "pygments_lexer": "ipython3",
   "version": "3.6.0"
  }
 },
 "nbformat": 4,
 "nbformat_minor": 2
}
