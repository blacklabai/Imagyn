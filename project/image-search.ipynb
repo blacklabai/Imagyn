{
 "cells": [
  {
   "cell_type": "markdown",
   "metadata": {},
   "source": [
    "# Image Searching\n",
    "This notebook handles searching imagenet for images based on a keyword.\n",
    "It performs this task by doing the following:\n",
    "\n",
    "    1. User inputs keyword and number of images to retrieve.\n",
    "    2. The keyword is sent to the wordnet API to obtain the synset id.\n",
    "    3. Get a grandparent from the synset for similar images.\n",
    "    4. Get up to 5 hyponyms of the hypernym (siblings to the synset).\n",
    "    5. Get a random synset that is completely unrelated to the synset.\n",
    "    6. Retrieve a set number of images from each synset:  \n",
    "        - About 10% of the images retrieved are exactly matching the keyword.  \n",
    "        - About 50% of the images retrieved are sibling synsets to the keyword. \n",
    "        - About 40% of the images are completely unrelated images from a random synset.  \n",
    "   \n",
    "The percentage of exact, related, and unrelated images is subject to change depending on what works best for the neural net."
   ]
  },
  {
   "cell_type": "markdown",
   "metadata": {},
   "source": [
    "## Imports and Initialization"
   ]
  },
  {
   "cell_type": "code",
   "execution_count": 22,
   "metadata": {
    "collapsed": false
   },
   "outputs": [
    {
     "name": "stdout",
     "output_type": "stream",
     "text": [
      "[nltk_data] Downloading package wordnet to\n",
      "[nltk_data]     C:\\Users\\mattj\\AppData\\Roaming\\nltk_data...\n",
      "[nltk_data]   Package wordnet is already up-to-date!\n"
     ]
    }
   ],
   "source": [
    "import requests\n",
    "import random\n",
    "import urllib.request\n",
    "from socket import gaierror\n",
    "from IPython.display import Image\n",
    "\n",
    "# Download wordnet corpus using nltk\n",
    "from nltk import download\n",
    "download(\"wordnet\")\n",
    "\n",
    "# Import the wordnet from nltk corpus\n",
    "from nltk.corpus import wordnet as wn\n",
    "\n",
    "API = {\n",
    "    'allsynsets': \"http://image-net.org/api/text/imagenet.synset.obtain_synset_list\",\n",
    "    'wordsfor': \"http://image-net.org/api/text/wordnet.synset.getwords?wnid={}\",\n",
    "    'urlsfor': \"http://image-net.org/api/text/imagenet.synset.geturls?wnid={}\",\n",
    "    'hyponymfor': \"http://image-net.org/api/text/wordnet.structure.hyponym?wnid={}\",\n",
    "}\n",
    "\n",
    "synsets = requests.get(API['allsynsets']).content.decode().splitlines()"
   ]
  },
  {
   "cell_type": "code",
   "execution_count": 23,
   "metadata": {
    "collapsed": true
   },
   "outputs": [],
   "source": [
    "def getSynsetId(synset):\n",
    "    return \"n{}\".format(str(synset.offset()).zfill(8))"
   ]
  },
  {
   "cell_type": "markdown",
   "metadata": {},
   "source": [
    "## 1. User Prompt"
   ]
  },
  {
   "cell_type": "code",
   "execution_count": 24,
   "metadata": {
    "collapsed": false
   },
   "outputs": [
    {
     "name": "stdout",
     "output_type": "stream",
     "text": [
      "Keyword: bear\n",
      "Image Count: 100\n"
     ]
    }
   ],
   "source": [
    "keyword = input(\"Keyword: \")\n",
    "imgCount = int(input(\"Image Count: \"))"
   ]
  },
  {
   "cell_type": "markdown",
   "metadata": {},
   "source": [
    "## 2. Obtain Synset ID\n",
    "Hyponym: A child of the synset  \n",
    "Hypernym: The parent of the synset"
   ]
  },
  {
   "cell_type": "code",
   "execution_count": 25,
   "metadata": {
    "collapsed": false
   },
   "outputs": [
    {
     "name": "stdout",
     "output_type": "stream",
     "text": [
      "bear : Synset('bear.n.01') : n02131653\n",
      "In imagenet? True\n"
     ]
    }
   ],
   "source": [
    "offset = next(iter(wn.synsets(keyword, pos=wn.NOUN)), None).offset()\n",
    "synsetId = \"n{}\".format(str(offset).zfill(8))\n",
    "synset = wn.synset(\"{}.n.01\".format(keyword))\n",
    "print(\"{} : {} : {}\".format(keyword, synset, synsetId))\n",
    "\n",
    "synInImagenet = synsetId in synsets\n",
    "print(\"In imagenet? {}\".format(synInImagenet))"
   ]
  },
  {
   "cell_type": "markdown",
   "metadata": {},
   "source": [
    "## 3. Obtain Synset Parent"
   ]
  },
  {
   "cell_type": "code",
   "execution_count": 26,
   "metadata": {
    "collapsed": false
   },
   "outputs": [
    {
     "name": "stdout",
     "output_type": "stream",
     "text": [
      "Synset('carnivore.n.01')\n"
     ]
    }
   ],
   "source": [
    "parent = random.choice(synset.hypernyms())\n",
    "print(parent)"
   ]
  },
  {
   "cell_type": "markdown",
   "metadata": {},
   "source": [
    "## 4. Obtain Siblings of Synset"
   ]
  },
  {
   "cell_type": "code",
   "execution_count": 27,
   "metadata": {
    "collapsed": false
   },
   "outputs": [
    {
     "name": "stdout",
     "output_type": "stream",
     "text": [
      "Synset('canine.n.02')\n",
      "Synset('feline.n.01')\n",
      "Synset('fissiped_mammal.n.01')\n",
      "Synset('musteline_mammal.n.01')\n",
      "Synset('procyonid.n.01')\n"
     ]
    }
   ],
   "source": [
    "siblings = []\n",
    "siblingCount = 0\n",
    "for sibling in parent.hyponyms():\n",
    "    if siblingCount == 5:\n",
    "        break\n",
    "    if sibling != synset:\n",
    "        siblings.insert(siblingCount, sibling)\n",
    "        siblingCount += 1\n",
    "\n",
    "for sibling in siblings:\n",
    "    print(sibling)"
   ]
  },
  {
   "cell_type": "markdown",
   "metadata": {},
   "source": [
    "## 5. Obtain Random Synset"
   ]
  },
  {
   "cell_type": "code",
   "execution_count": 28,
   "metadata": {
    "collapsed": false
   },
   "outputs": [
    {
     "name": "stdout",
     "output_type": "stream",
     "text": [
      "picture tube is not a noun, try again.\n",
      "Carissa grandiflora is not a noun, try again.\n",
      "deer hunt is not a noun, try again.\n",
      "cassette player is not a noun, try again.\n",
      "Chinese elm is not a noun, try again.\n",
      "Synset('north_carolinian.n.01')\n"
     ]
    }
   ],
   "source": [
    "while True:\n",
    "    try:\n",
    "        randomSynsetId = random.choice(synsets)\n",
    "        randomSynsetName = random.choice(requests.get(API[\"wordsfor\"].format(randomSynsetId)).content.decode().splitlines())\n",
    "        randomSynset = wn.synset(\"{}.n.01\".format(randomSynsetName))\n",
    "        break\n",
    "    except:\n",
    "        print (\"{} is not a noun, try again.\".format(randomSynsetName))\n",
    "\n",
    "print(randomSynset)"
   ]
  },
  {
   "cell_type": "markdown",
   "metadata": {},
   "source": [
    "## 6. Display Obtained Synsets"
   ]
  },
  {
   "cell_type": "code",
   "execution_count": 29,
   "metadata": {
    "collapsed": false
   },
   "outputs": [
    {
     "name": "stdout",
     "output_type": "stream",
     "text": [
      "Synset:\n",
      "-------\n",
      "Synset('bear.n.01') Id('n02131653')\n",
      "\n",
      "Siblings:\n",
      "-------\n",
      "Synset('canine.n.02') Id('n02083346')\n",
      "\n",
      "Synset('feline.n.01') Id('n02120997')\n",
      "\n",
      "Synset('fissiped_mammal.n.01') Id('n02082190')\n",
      "\n",
      "Synset('musteline_mammal.n.01') Id('n02441326')\n",
      "\n",
      "Synset('procyonid.n.01') Id('n02507649')\n",
      "\n",
      "Random:\n",
      "-------\n",
      "Synset('north_carolinian.n.01') Id('n09744834')\n",
      "\n"
     ]
    }
   ],
   "source": [
    "print(\"Synset:\")\n",
    "print(\"-------\")\n",
    "print(\"{} Id('{}')\\n\".format(synset, synsetId))\n",
    "\n",
    "print(\"Siblings:\")\n",
    "print(\"-------\")\n",
    "for sibling in siblings:\n",
    "    print(\"{} Id('{}')\\n\".format(sibling, getSynsetId(sibling)))\n",
    "\n",
    "print(\"Random:\")\n",
    "print(\"-------\")\n",
    "print(\"{} Id('{}')\\n\".format(randomSynset, randomSynsetId))"
   ]
  },
  {
   "cell_type": "markdown",
   "metadata": {
    "collapsed": true
   },
   "source": [
    "## 7. Retrieve Percentage of Images"
   ]
  },
  {
   "cell_type": "code",
   "execution_count": null,
   "metadata": {
    "collapsed": false
   },
   "outputs": [
    {
     "name": "stdout",
     "output_type": "stream",
     "text": [
      "count:10 imageType:Exact passedSynset:n02131653\n",
      ".\\CollectedImages\\Exact\\img0.jpg\n",
      ".\\CollectedImages\\Exact\\img0.jpg\n",
      ".\\CollectedImages\\Exact\\img1.jpg\n",
      ".\\CollectedImages\\Exact\\img1.jpg\n",
      ".\\CollectedImages\\Exact\\img2.jpg\n",
      "File not found.\n",
      ".\\CollectedImages\\Exact\\img2.jpg\n",
      "File not found.\n",
      ".\\CollectedImages\\Exact\\img2.jpg\n",
      ".\\CollectedImages\\Exact\\img2.jpg\n",
      ".\\CollectedImages\\Exact\\img3.jpg\n",
      ".\\CollectedImages\\Exact\\img3.jpg\n",
      ".\\CollectedImages\\Exact\\img4.jpg\n",
      ".\\CollectedImages\\Exact\\img4.jpg\n",
      ".\\CollectedImages\\Exact\\img5.jpg\n",
      ".\\CollectedImages\\Exact\\img5.jpg\n",
      ".\\CollectedImages\\Exact\\img6.jpg\n",
      ".\\CollectedImages\\Exact\\img6.jpg\n",
      ".\\CollectedImages\\Exact\\img7.jpg\n",
      ".\\CollectedImages\\Exact\\img7.jpg\n",
      ".\\CollectedImages\\Exact\\img8.jpg\n",
      ".\\CollectedImages\\Exact\\img8.jpg\n",
      ".\\CollectedImages\\Exact\\img9.jpg\n",
      "File not found.\n",
      ".\\CollectedImages\\Exact\\img9.jpg\n",
      ".\\CollectedImages\\Exact\\img9.jpg\n",
      "count:10 imageType:Similar passedSynset:n02083346\n",
      ".\\CollectedImages\\Similar\\img0.jpg\n",
      "File not found.\n",
      ".\\CollectedImages\\Similar\\img0.jpg\n",
      ".\\CollectedImages\\Similar\\img0.jpg\n",
      ".\\CollectedImages\\Similar\\img1.jpg\n",
      "File not found.\n",
      ".\\CollectedImages\\Similar\\img1.jpg\n",
      ".\\CollectedImages\\Similar\\img1.jpg\n",
      ".\\CollectedImages\\Similar\\img2.jpg\n",
      ".\\CollectedImages\\Similar\\img2.jpg\n",
      ".\\CollectedImages\\Similar\\img3.jpg\n",
      ".\\CollectedImages\\Similar\\img3.jpg\n",
      ".\\CollectedImages\\Similar\\img4.jpg\n",
      "File not found.\n",
      ".\\CollectedImages\\Similar\\img4.jpg\n",
      ".\\CollectedImages\\Similar\\img4.jpg\n",
      ".\\CollectedImages\\Similar\\img5.jpg\n",
      ".\\CollectedImages\\Similar\\img5.jpg\n",
      ".\\CollectedImages\\Similar\\img6.jpg\n",
      ".\\CollectedImages\\Similar\\img6.jpg\n",
      ".\\CollectedImages\\Similar\\img7.jpg\n",
      ".\\CollectedImages\\Similar\\img7.jpg\n",
      ".\\CollectedImages\\Similar\\img8.jpg\n",
      ".\\CollectedImages\\Similar\\img8.jpg\n",
      ".\\CollectedImages\\Similar\\img9.jpg\n",
      "File not found.\n",
      ".\\CollectedImages\\Similar\\img9.jpg\n",
      ".\\CollectedImages\\Similar\\img9.jpg\n",
      "count:10 imageType:Similar passedSynset:n02120997\n",
      ".\\CollectedImages\\Similar\\img0.jpg\n",
      ".\\CollectedImages\\Similar\\img0.jpg\n",
      ".\\CollectedImages\\Similar\\img1.jpg\n",
      ".\\CollectedImages\\Similar\\img1.jpg\n",
      ".\\CollectedImages\\Similar\\img2.jpg\n",
      ".\\CollectedImages\\Similar\\img2.jpg\n",
      ".\\CollectedImages\\Similar\\img3.jpg\n",
      ".\\CollectedImages\\Similar\\img3.jpg\n",
      ".\\CollectedImages\\Similar\\img4.jpg\n",
      "File not found.\n",
      ".\\CollectedImages\\Similar\\img4.jpg\n",
      ".\\CollectedImages\\Similar\\img4.jpg\n",
      ".\\CollectedImages\\Similar\\img5.jpg\n",
      ".\\CollectedImages\\Similar\\img5.jpg\n",
      ".\\CollectedImages\\Similar\\img6.jpg\n",
      ".\\CollectedImages\\Similar\\img6.jpg\n",
      ".\\CollectedImages\\Similar\\img7.jpg\n",
      ".\\CollectedImages\\Similar\\img7.jpg\n",
      ".\\CollectedImages\\Similar\\img8.jpg\n",
      ".\\CollectedImages\\Similar\\img8.jpg\n",
      ".\\CollectedImages\\Similar\\img9.jpg\n",
      ".\\CollectedImages\\Similar\\img9.jpg\n",
      "count:10 imageType:Similar passedSynset:n02082190\n",
      ".\\CollectedImages\\Similar\\img0.jpg\n",
      ".\\CollectedImages\\Similar\\img0.jpg\n",
      ".\\CollectedImages\\Similar\\img1.jpg\n",
      "File not found.\n",
      ".\\CollectedImages\\Similar\\img1.jpg\n",
      ".\\CollectedImages\\Similar\\img1.jpg\n",
      ".\\CollectedImages\\Similar\\img2.jpg\n",
      ".\\CollectedImages\\Similar\\img2.jpg\n",
      ".\\CollectedImages\\Similar\\img3.jpg\n",
      ".\\CollectedImages\\Similar\\img3.jpg\n",
      ".\\CollectedImages\\Similar\\img4.jpg\n",
      ".\\CollectedImages\\Similar\\img4.jpg\n",
      ".\\CollectedImages\\Similar\\img5.jpg\n",
      ".\\CollectedImages\\Similar\\img5.jpg\n",
      ".\\CollectedImages\\Similar\\img6.jpg\n",
      ".\\CollectedImages\\Similar\\img6.jpg\n",
      ".\\CollectedImages\\Similar\\img7.jpg\n",
      ".\\CollectedImages\\Similar\\img7.jpg\n",
      ".\\CollectedImages\\Similar\\img8.jpg\n",
      ".\\CollectedImages\\Similar\\img8.jpg\n",
      ".\\CollectedImages\\Similar\\img9.jpg\n",
      ".\\CollectedImages\\Similar\\img9.jpg\n",
      "count:10 imageType:Similar passedSynset:n02441326\n",
      ".\\CollectedImages\\Similar\\img0.jpg\n",
      ".\\CollectedImages\\Similar\\img0.jpg\n",
      ".\\CollectedImages\\Similar\\img1.jpg\n",
      ".\\CollectedImages\\Similar\\img1.jpg\n",
      ".\\CollectedImages\\Similar\\img2.jpg\n",
      "File not found.\n",
      ".\\CollectedImages\\Similar\\img2.jpg\n",
      "File not found.\n",
      ".\\CollectedImages\\Similar\\img2.jpg\n",
      "File not found.\n",
      ".\\CollectedImages\\Similar\\img2.jpg\n",
      ".\\CollectedImages\\Similar\\img2.jpg\n",
      ".\\CollectedImages\\Similar\\img3.jpg\n",
      "File not found.\n",
      ".\\CollectedImages\\Similar\\img3.jpg\n",
      ".\\CollectedImages\\Similar\\img3.jpg\n",
      ".\\CollectedImages\\Similar\\img4.jpg\n",
      ".\\CollectedImages\\Similar\\img4.jpg\n",
      ".\\CollectedImages\\Similar\\img5.jpg\n",
      "File not found.\n",
      ".\\CollectedImages\\Similar\\img5.jpg\n",
      ".\\CollectedImages\\Similar\\img5.jpg\n",
      ".\\CollectedImages\\Similar\\img6.jpg\n",
      "File not found.\n",
      ".\\CollectedImages\\Similar\\img6.jpg\n",
      "File not found.\n",
      ".\\CollectedImages\\Similar\\img6.jpg\n",
      ".\\CollectedImages\\Similar\\img6.jpg\n",
      ".\\CollectedImages\\Similar\\img7.jpg\n",
      ".\\CollectedImages\\Similar\\img7.jpg\n",
      ".\\CollectedImages\\Similar\\img8.jpg\n",
      ".\\CollectedImages\\Similar\\img8.jpg\n",
      ".\\CollectedImages\\Similar\\img9.jpg\n",
      "File not found.\n",
      ".\\CollectedImages\\Similar\\img9.jpg\n",
      "File not found.\n",
      ".\\CollectedImages\\Similar\\img9.jpg\n",
      ".\\CollectedImages\\Similar\\img9.jpg\n",
      "count:10 imageType:Similar passedSynset:n02507649\n",
      ".\\CollectedImages\\Similar\\img0.jpg\n",
      "File not found.\n",
      ".\\CollectedImages\\Similar\\img0.jpg\n",
      ".\\CollectedImages\\Similar\\img0.jpg\n",
      ".\\CollectedImages\\Similar\\img1.jpg\n",
      ".\\CollectedImages\\Similar\\img1.jpg\n",
      ".\\CollectedImages\\Similar\\img2.jpg\n",
      "File not found.\n",
      ".\\CollectedImages\\Similar\\img2.jpg\n",
      "File not found.\n",
      ".\\CollectedImages\\Similar\\img2.jpg\n",
      "File not found.\n",
      ".\\CollectedImages\\Similar\\img2.jpg\n",
      "File not found.\n",
      ".\\CollectedImages\\Similar\\img2.jpg\n",
      "File not found.\n",
      ".\\CollectedImages\\Similar\\img2.jpg\n",
      ".\\CollectedImages\\Similar\\img2.jpg\n",
      ".\\CollectedImages\\Similar\\img3.jpg\n",
      ".\\CollectedImages\\Similar\\img3.jpg\n",
      ".\\CollectedImages\\Similar\\img4.jpg\n",
      ".\\CollectedImages\\Similar\\img4.jpg\n",
      ".\\CollectedImages\\Similar\\img5.jpg\n",
      ".\\CollectedImages\\Similar\\img5.jpg\n",
      ".\\CollectedImages\\Similar\\img6.jpg\n",
      ".\\CollectedImages\\Similar\\img6.jpg\n",
      ".\\CollectedImages\\Similar\\img7.jpg\n",
      ".\\CollectedImages\\Similar\\img7.jpg\n",
      ".\\CollectedImages\\Similar\\img8.jpg\n",
      "File not found.\n",
      ".\\CollectedImages\\Similar\\img8.jpg\n",
      "File not found.\n",
      ".\\CollectedImages\\Similar\\img8.jpg\n",
      "File not found.\n",
      ".\\CollectedImages\\Similar\\img8.jpg\n",
      "File not found.\n",
      ".\\CollectedImages\\Similar\\img8.jpg\n",
      ".\\CollectedImages\\Similar\\img8.jpg\n",
      ".\\CollectedImages\\Similar\\img9.jpg\n",
      ".\\CollectedImages\\Similar\\img9.jpg\n",
      "count:40 imageType:Unrelated passedSynset:n09744834\n",
      ".\\CollectedImages\\Unrelated\\img0.jpg\n",
      ".\\CollectedImages\\Unrelated\\img0.jpg\n",
      ".\\CollectedImages\\Unrelated\\img1.jpg\n",
      ".\\CollectedImages\\Unrelated\\img1.jpg\n",
      ".\\CollectedImages\\Unrelated\\img2.jpg\n",
      ".\\CollectedImages\\Unrelated\\img2.jpg\n",
      ".\\CollectedImages\\Unrelated\\img3.jpg\n",
      "File not found.\n",
      ".\\CollectedImages\\Unrelated\\img3.jpg\n",
      ".\\CollectedImages\\Unrelated\\img3.jpg\n",
      ".\\CollectedImages\\Unrelated\\img4.jpg\n",
      ".\\CollectedImages\\Unrelated\\img4.jpg\n",
      ".\\CollectedImages\\Unrelated\\img5.jpg\n",
      "File not found.\n",
      ".\\CollectedImages\\Unrelated\\img5.jpg\n",
      "File not found.\n",
      ".\\CollectedImages\\Unrelated\\img5.jpg\n",
      ".\\CollectedImages\\Unrelated\\img5.jpg\n",
      ".\\CollectedImages\\Unrelated\\img6.jpg\n",
      ".\\CollectedImages\\Unrelated\\img6.jpg\n",
      ".\\CollectedImages\\Unrelated\\img7.jpg\n",
      ".\\CollectedImages\\Unrelated\\img7.jpg\n",
      ".\\CollectedImages\\Unrelated\\img8.jpg\n",
      ".\\CollectedImages\\Unrelated\\img8.jpg\n",
      ".\\CollectedImages\\Unrelated\\img9.jpg\n",
      ".\\CollectedImages\\Unrelated\\img9.jpg\n",
      ".\\CollectedImages\\Unrelated\\img10.jpg\n",
      ".\\CollectedImages\\Unrelated\\img10.jpg\n",
      ".\\CollectedImages\\Unrelated\\img11.jpg\n",
      ".\\CollectedImages\\Unrelated\\img11.jpg\n",
      ".\\CollectedImages\\Unrelated\\img12.jpg\n",
      ".\\CollectedImages\\Unrelated\\img12.jpg\n",
      ".\\CollectedImages\\Unrelated\\img13.jpg\n"
     ]
    }
   ],
   "source": [
    "totalRetrieved = 0\n",
    "\n",
    "exact = (int)(imgCount * 0.1)\n",
    "similar = (int)(imgCount * 0.5)\n",
    "unrelated = (int)(imgCount * 0.4)\n",
    "\n",
    "def getImages(count, imageType, passedSynset):\n",
    "    print(\"count:{} imageType:{} passedSynset:{}\".format(count, imageType, passedSynset))\n",
    "    \n",
    "    request = requests.get(API['urlsfor'].format(passedSynset))\n",
    "    urls = request.content.decode().splitlines()\n",
    "    del request\n",
    "\n",
    "    errorOffset = 0\n",
    "    retrieved = 0\n",
    "    while (retrieved < count):\n",
    "        while True:\n",
    "            try:\n",
    "                file = \".\\\\CollectedImages\\\\{}\\\\img{}.jpg\".format(imageType, retrieved)\n",
    "                \n",
    "                print(file)\n",
    "                \n",
    "                urllib.request.urlretrieve(urls[retrieved + errorOffset], file)\n",
    "                retrieved = retrieved + 1\n",
    "                print(file)\n",
    "                break\n",
    "            except:\n",
    "                errorOffset = errorOffset + 1\n",
    "                print(\"File not found.\")\n",
    "    return\n",
    "\n",
    "# Get exact images\n",
    "getImages(exact, \"Exact\", synsetId)\n",
    "\n",
    "# Get similar images\n",
    "for sibling in siblings:\n",
    "    getImages((int)(similar / len(siblings)), \"Similar\", getSynsetId(sibling))\n",
    "\n",
    "# Get unrelated images\n",
    "getImages(unrelated, \"Unrelated\", randomSynsetId)"
   ]
  },
  {
   "cell_type": "code",
   "execution_count": null,
   "metadata": {
    "collapsed": true
   },
   "outputs": [],
   "source": []
  }
 ],
 "metadata": {
  "kernelspec": {
   "display_name": "Python 3",
   "language": "python",
   "name": "python3"
  },
  "language_info": {
   "codemirror_mode": {
    "name": "ipython",
    "version": 3
   },
   "file_extension": ".py",
   "mimetype": "text/x-python",
   "name": "python",
   "nbconvert_exporter": "python",
   "pygments_lexer": "ipython3",
   "version": "3.6.0"
  }
 },
 "nbformat": 4,
 "nbformat_minor": 2
}
